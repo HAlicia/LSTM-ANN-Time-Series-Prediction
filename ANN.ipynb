{
 "cells": [
  {
   "cell_type": "code",
   "execution_count": 65,
   "metadata": {
    "colab": {},
    "colab_type": "code",
    "executionInfo": {
     "elapsed": 2587,
     "status": "ok",
     "timestamp": 1597492072008,
     "user": {
      "displayName": "Expss Xu",
      "photoUrl": "",
      "userId": "17480852382145563764"
     },
     "user_tz": -480
    },
    "id": "5NCGpNCVotjd"
   },
   "outputs": [],
   "source": [
    "#导入必须的库\n",
    "import numpy as np\n",
    "import matplotlib.pyplot as plt\n",
    "import pandas as pd\n",
    "from sklearn.metrics import mean_squared_error\n",
    "from sklearn.metrics import mean_absolute_error\n",
    "plt.style.use('fivethirtyeight')#画图风格\n",
    "np.random.seed(100)\n",
    "window=12#时间窗\n",
    "label_dim=3#标签纬度\n",
    "scale=100#归一化参数\n",
    "amount_of_features=1#特征数量\n",
    "d=0.05#dropout系数\n",
    "batch_size=64#批训练数量\n",
    "epoch=200#总迭代次数\n",
    "train_file='international-airline-passengers.csv'#读取训练集地址\n",
    "test_file='example.csv'#读取训练集地址\n",
    "save_file='predict_result_ann.csv'#储存预测值地址"
   ]
  },
  {
   "cell_type": "code",
   "execution_count": 66,
   "metadata": {},
   "outputs": [
    {
     "data": {
      "image/png": "[encoded data removed]",
      "text/plain": [
       "<Figure size 720x360 with 2 Axes>"
      ]
     },
     "metadata": {},
     "output_type": "display_data"
    }
   ],
   "source": [
    "data=pd.read_csv(train_file,header=0) \n",
    "data=data['passengers']#选数据集的哪一列\n",
    "#构造针对机器学习模型的数据集\n",
    "data=data.values \n",
    "dataset=data\n",
    "for i in range(window+label_dim-1):\n",
    "    zero=np.zeros(i+1)\n",
    "    temp=np.append(data[i+1:],zero)\n",
    "    dataset=np.row_stack((dataset,temp))\n",
    "dataset=pd.DataFrame(dataset).T\n",
    "dataset=dataset.iloc[:-(window+label_dim)]\n",
    "dataset=dataset/scale#进行伪归一化\n",
    "import seaborn as sns\n",
    "plt.figure(figsize=(10,5))\n",
    "sns.heatmap(dataset,annot=False)\n",
    "plt.show()#展示下原始数据集"
   ]
  },
  {
   "cell_type": "code",
   "execution_count": 67,
   "metadata": {},
   "outputs": [],
   "source": [
    "#划分特征与标签\n",
    "X=dataset.iloc[:,:window]\n",
    "y=dataset.iloc[:,-label_dim:]"
   ]
  },
  {
   "cell_type": "code",
   "execution_count": 68,
   "metadata": {
    "colab": {
     "base_uri": "https://localhost:8080/",
     "height": 89
    },
    "colab_type": "code",
    "executionInfo": {
     "elapsed": 2576,
     "status": "ok",
     "timestamp": 1597492072008,
     "user": {
      "displayName": "Expss Xu",
      "photoUrl": "",
      "userId": "17480852382145563764"
     },
     "user_tz": -480
    },
    "id": "UqmQarL8otjj",
    "outputId": "068dd905-8a38-40c6-c417-1407aca65c65"
   },
   "outputs": [
    {
     "name": "stdout",
     "output_type": "stream",
     "text": [
      "(129, 12)\n",
      "(129, 3)\n"
     ]
    }
   ],
   "source": [
    "#构造训练集测试集\n",
    "X,y=X.values,y.values\n",
    "print(X.shape)#通过输出训练集测试集的大小来判断数据格式正确。\n",
    "print(y.shape)"
   ]
  },
  {
   "cell_type": "code",
   "execution_count": 69,
   "metadata": {
    "colab": {
     "base_uri": "https://localhost:8080/",
     "height": 269
    },
    "colab_type": "code",
    "executionInfo": {
     "elapsed": 3600,
     "status": "ok",
     "timestamp": 1597492073045,
     "user": {
      "displayName": "Expss Xu",
      "photoUrl": "",
      "userId": "17480852382145563764"
     },
     "user_tz": -480
    },
    "id": "i0dUbIgGotjq",
    "outputId": "9a38af4d-6447-4c0c-c7b0-d6b70db24324"
   },
   "outputs": [
    {
     "name": "stdout",
     "output_type": "stream",
     "text": [
      "_________________________________________________________________\n",
      "Layer (type)                 Output Shape              Param #   \n",
      "=================================================================\n",
      "dense_16 (Dense)             (None, 12)                156       \n",
      "_________________________________________________________________\n",
      "dense_17 (Dense)             (None, 3)                 39        \n",
      "=================================================================\n",
      "Total params: 195\n",
      "Trainable params: 195\n",
      "Non-trainable params: 0\n",
      "_________________________________________________________________\n"
     ]
    }
   ],
   "source": [
    "#建立ANN模型 训练\n",
    "from keras.models import Sequential\n",
    "from keras.layers.core import Dense, Dropout, Activation,Dropout\n",
    "#from keras.layers.recurrent import LSTM\n",
    "#建立训练模型过程\n",
    "model = Sequential()#建立层次模型\n",
    "model.add(Dense(label_dim*4,input_dim=window,activation='relu'))#建立LSTM层\n",
    "#model.add(Dropout(d))\n",
    "#model.add(Dense(label_dim*2,activation='relu'))   #建立全连接层  \n",
    "#model.add(Dropout(d))\n",
    "model.add(Dense(label_dim))\n",
    "model.compile(loss='mse',optimizer='adam',metrics=['accuracy'])\n",
    "model.summary()"
   ]
  },
  {
   "cell_type": "code",
   "execution_count": 70,
   "metadata": {
    "colab": {
     "base_uri": "https://localhost:8080/",
     "height": 1000
    },
    "colab_type": "code",
    "executionInfo": {
     "elapsed": 22110,
     "status": "ok",
     "timestamp": 1597492091563,
     "user": {
      "displayName": "Expss Xu",
      "photoUrl": "",
      "userId": "17480852382145563764"
     },
     "user_tz": -480
    },
    "id": "j1TvX44ootjs",
    "outputId": "9987a27f-6bcf-4bfb-d47f-b95c46501fe0",
    "scrolled": false
   },
   "outputs": [
    {
     "name": "stdout",
     "output_type": "stream",
     "text": [
      "Train on 116 samples, validate on 13 samples\n",
      "Epoch 1/200\n",
      "116/116 [==============================] - 0s 3ms/step - loss: 8.4813 - acc: 0.3017 - val_loss: 20.8116 - val_acc: 0.3846\n",
      "Epoch 2/200\n",
      "116/116 [==============================] - 0s 39us/step - loss: 7.7277 - acc: 0.3017 - val_loss: 18.9391 - val_acc: 0.3846\n",
      "Epoch 3/200\n",
      "116/116 [==============================] - 0s 46us/step - loss: 7.0065 - acc: 0.3017 - val_loss: 17.1723 - val_acc: 0.3846\n",
      "Epoch 4/200\n",
      "116/116 [==============================] - 0s 40us/step - loss: 6.3747 - acc: 0.3017 - val_loss: 15.5042 - val_acc: 0.3846\n",
      "Epoch 5/200\n",
      "116/116 [==============================] - 0s 49us/step - loss: 5.7395 - acc: 0.3017 - val_loss: 13.9637 - val_acc: 0.3846\n",
      "Epoch 6/200\n",
      "116/116 [==============================] - 0s 43us/step - loss: 5.1677 - acc: 0.3017 - val_loss: 12.5453 - val_acc: 0.3846\n",
      "Epoch 7/200\n",
      "116/116 [==============================] - 0s 49us/step - loss: 4.6219 - acc: 0.3017 - val_loss: 11.2236 - val_acc: 0.3846\n",
      "Epoch 8/200\n",
      "116/116 [==============================] - 0s 56us/step - loss: 4.1258 - acc: 0.3017 - val_loss: 10.0057 - val_acc: 0.3846\n",
      "Epoch 9/200\n",
      "116/116 [==============================] - 0s 45us/step - loss: 3.6633 - acc: 0.3017 - val_loss: 8.8746 - val_acc: 0.3846\n",
      "Epoch 10/200\n",
      "116/116 [==============================] - 0s 51us/step - loss: 3.2410 - acc: 0.3017 - val_loss: 7.8359 - val_acc: 0.3846\n",
      "Epoch 11/200\n",
      "116/116 [==============================] - 0s 40us/step - loss: 2.8573 - acc: 0.3017 - val_loss: 6.8887 - val_acc: 0.3846\n",
      "Epoch 12/200\n",
      "116/116 [==============================] - 0s 82us/step - loss: 2.5010 - acc: 0.3017 - val_loss: 6.0361 - val_acc: 0.3846\n",
      "Epoch 13/200\n",
      "116/116 [==============================] - 0s 114us/step - loss: 2.2028 - acc: 0.3017 - val_loss: 5.2678 - val_acc: 0.3846\n",
      "Epoch 14/200\n",
      "116/116 [==============================] - 0s 47us/step - loss: 1.9072 - acc: 0.3017 - val_loss: 4.5832 - val_acc: 0.3846\n",
      "Epoch 15/200\n",
      "116/116 [==============================] - 0s 43us/step - loss: 1.6556 - acc: 0.3017 - val_loss: 3.9673 - val_acc: 0.3846\n",
      "Epoch 16/200\n",
      "116/116 [==============================] - 0s 44us/step - loss: 1.4311 - acc: 0.3017 - val_loss: 3.4235 - val_acc: 0.3846\n",
      "Epoch 17/200\n",
      "116/116 [==============================] - 0s 39us/step - loss: 1.2322 - acc: 0.3017 - val_loss: 2.9465 - val_acc: 0.3846\n",
      "Epoch 18/200\n",
      "116/116 [==============================] - 0s 51us/step - loss: 1.0583 - acc: 0.3017 - val_loss: 2.5286 - val_acc: 0.3846\n",
      "Epoch 19/200\n",
      "116/116 [==============================] - 0s 47us/step - loss: 0.9025 - acc: 0.3017 - val_loss: 2.1643 - val_acc: 0.3846\n",
      "Epoch 20/200\n",
      "116/116 [==============================] - 0s 34us/step - loss: 0.7694 - acc: 0.3017 - val_loss: 1.8526 - val_acc: 0.3846\n",
      "Epoch 21/200\n",
      "116/116 [==============================] - 0s 43us/step - loss: 0.6584 - acc: 0.3017 - val_loss: 1.5854 - val_acc: 0.3846\n",
      "Epoch 22/200\n",
      "116/116 [==============================] - 0s 47us/step - loss: 0.5604 - acc: 0.3017 - val_loss: 1.3594 - val_acc: 0.3846\n",
      "Epoch 23/200\n",
      "116/116 [==============================] - 0s 42us/step - loss: 0.4758 - acc: 0.3017 - val_loss: 1.1701 - val_acc: 0.3846\n",
      "Epoch 24/200\n",
      "116/116 [==============================] - 0s 36us/step - loss: 0.4072 - acc: 0.3017 - val_loss: 1.0126 - val_acc: 0.3846\n",
      "Epoch 25/200\n",
      "116/116 [==============================] - 0s 36us/step - loss: 0.3508 - acc: 0.3017 - val_loss: 0.8830 - val_acc: 0.3846\n",
      "Epoch 26/200\n",
      "116/116 [==============================] - 0s 39us/step - loss: 0.3048 - acc: 0.2931 - val_loss: 0.7778 - val_acc: 0.3846\n",
      "Epoch 27/200\n",
      "116/116 [==============================] - 0s 49us/step - loss: 0.2662 - acc: 0.3103 - val_loss: 0.6935 - val_acc: 0.3077\n",
      "Epoch 28/200\n",
      "116/116 [==============================] - 0s 40us/step - loss: 0.2352 - acc: 0.2931 - val_loss: 0.6277 - val_acc: 0.3077\n",
      "Epoch 29/200\n",
      "116/116 [==============================] - 0s 41us/step - loss: 0.2116 - acc: 0.2414 - val_loss: 0.5764 - val_acc: 0.2308\n",
      "Epoch 30/200\n",
      "116/116 [==============================] - 0s 44us/step - loss: 0.1932 - acc: 0.2759 - val_loss: 0.5371 - val_acc: 0.3077\n",
      "Epoch 31/200\n",
      "116/116 [==============================] - 0s 42us/step - loss: 0.1784 - acc: 0.2672 - val_loss: 0.5076 - val_acc: 0.3077\n",
      "Epoch 32/200\n",
      "116/116 [==============================] - 0s 38us/step - loss: 0.1689 - acc: 0.2759 - val_loss: 0.4857 - val_acc: 0.2308\n",
      "Epoch 33/200\n",
      "116/116 [==============================] - 0s 60us/step - loss: 0.1620 - acc: 0.2931 - val_loss: 0.4698 - val_acc: 0.2308\n",
      "Epoch 34/200\n",
      "116/116 [==============================] - 0s 42us/step - loss: 0.1566 - acc: 0.3448 - val_loss: 0.4586 - val_acc: 0.2308\n",
      "Epoch 35/200\n",
      "116/116 [==============================] - 0s 71us/step - loss: 0.1530 - acc: 0.3534 - val_loss: 0.4511 - val_acc: 0.2308\n",
      "Epoch 36/200\n",
      "116/116 [==============================] - 0s 52us/step - loss: 0.1500 - acc: 0.3448 - val_loss: 0.4462 - val_acc: 0.2308\n",
      "Epoch 37/200\n",
      "116/116 [==============================] - 0s 108us/step - loss: 0.1488 - acc: 0.3448 - val_loss: 0.4431 - val_acc: 0.1538\n",
      "Epoch 38/200\n",
      "116/116 [==============================] - 0s 95us/step - loss: 0.1482 - acc: 0.3534 - val_loss: 0.4412 - val_acc: 0.1538\n",
      "Epoch 39/200\n",
      "116/116 [==============================] - 0s 109us/step - loss: 0.1479 - acc: 0.3707 - val_loss: 0.4402 - val_acc: 0.1538\n",
      "Epoch 40/200\n",
      "116/116 [==============================] - 0s 85us/step - loss: 0.1475 - acc: 0.3707 - val_loss: 0.4397 - val_acc: 0.1538\n",
      "Epoch 41/200\n",
      "116/116 [==============================] - 0s 130us/step - loss: 0.1477 - acc: 0.3793 - val_loss: 0.4393 - val_acc: 0.1538\n",
      "Epoch 42/200\n",
      "116/116 [==============================] - 0s 63us/step - loss: 0.1477 - acc: 0.4052 - val_loss: 0.4390 - val_acc: 0.1538\n",
      "Epoch 43/200\n",
      "116/116 [==============================] - 0s 51us/step - loss: 0.1477 - acc: 0.4052 - val_loss: 0.4385 - val_acc: 0.1538\n",
      "Epoch 44/200\n",
      "116/116 [==============================] - 0s 80us/step - loss: 0.1477 - acc: 0.4052 - val_loss: 0.4380 - val_acc: 0.1538\n",
      "Epoch 45/200\n",
      "116/116 [==============================] - 0s 58us/step - loss: 0.1474 - acc: 0.4052 - val_loss: 0.4372 - val_acc: 0.1538\n",
      "Epoch 46/200\n",
      "116/116 [==============================] - 0s 54us/step - loss: 0.1472 - acc: 0.4052 - val_loss: 0.4363 - val_acc: 0.1538\n",
      "Epoch 47/200\n",
      "116/116 [==============================] - 0s 47us/step - loss: 0.1469 - acc: 0.4052 - val_loss: 0.4353 - val_acc: 0.1538\n",
      "Epoch 48/200\n",
      "116/116 [==============================] - 0s 57us/step - loss: 0.1465 - acc: 0.4052 - val_loss: 0.4341 - val_acc: 0.1538\n",
      "Epoch 49/200\n",
      "116/116 [==============================] - 0s 51us/step - loss: 0.1461 - acc: 0.4052 - val_loss: 0.4330 - val_acc: 0.1538\n",
      "Epoch 50/200\n",
      "116/116 [==============================] - 0s 57us/step - loss: 0.1457 - acc: 0.4052 - val_loss: 0.4316 - val_acc: 0.1538\n",
      "Epoch 51/200\n",
      "116/116 [==============================] - 0s 68us/step - loss: 0.1452 - acc: 0.4052 - val_loss: 0.4303 - val_acc: 0.1538\n",
      "Epoch 52/200\n",
      "116/116 [==============================] - 0s 78us/step - loss: 0.1448 - acc: 0.4052 - val_loss: 0.4290 - val_acc: 0.1538\n",
      "Epoch 53/200\n",
      "116/116 [==============================] - 0s 69us/step - loss: 0.1443 - acc: 0.4052 - val_loss: 0.4278 - val_acc: 0.1538\n",
      "Epoch 54/200\n",
      "116/116 [==============================] - 0s 86us/step - loss: 0.1438 - acc: 0.4052 - val_loss: 0.4267 - val_acc: 0.1538\n",
      "Epoch 55/200\n",
      "116/116 [==============================] - 0s 40us/step - loss: 0.1436 - acc: 0.3966 - val_loss: 0.4256 - val_acc: 0.1538\n",
      "Epoch 56/200\n",
      "116/116 [==============================] - 0s 59us/step - loss: 0.1431 - acc: 0.3879 - val_loss: 0.4246 - val_acc: 0.1538\n",
      "Epoch 57/200\n",
      "116/116 [==============================] - 0s 47us/step - loss: 0.1428 - acc: 0.3879 - val_loss: 0.4236 - val_acc: 0.1538\n",
      "Epoch 58/200\n",
      "116/116 [==============================] - 0s 52us/step - loss: 0.1425 - acc: 0.3707 - val_loss: 0.4226 - val_acc: 0.1538\n",
      "Epoch 59/200\n",
      "116/116 [==============================] - 0s 51us/step - loss: 0.1421 - acc: 0.3707 - val_loss: 0.4216 - val_acc: 0.1538\n",
      "Epoch 60/200\n",
      "116/116 [==============================] - 0s 47us/step - loss: 0.1417 - acc: 0.3707 - val_loss: 0.4207 - val_acc: 0.1538\n",
      "Epoch 61/200\n"
     ]
    },
    {
     "name": "stdout",
     "output_type": "stream",
     "text": [
      "116/116 [==============================] - 0s 57us/step - loss: 0.1414 - acc: 0.3707 - val_loss: 0.4198 - val_acc: 0.1538\n",
      "Epoch 62/200\n",
      "116/116 [==============================] - 0s 69us/step - loss: 0.1411 - acc: 0.3707 - val_loss: 0.4188 - val_acc: 0.1538\n",
      "Epoch 63/200\n",
      "116/116 [==============================] - 0s 46us/step - loss: 0.1409 - acc: 0.3707 - val_loss: 0.4178 - val_acc: 0.1538\n",
      "Epoch 64/200\n",
      "116/116 [==============================] - 0s 73us/step - loss: 0.1405 - acc: 0.3707 - val_loss: 0.4168 - val_acc: 0.1538\n",
      "Epoch 65/200\n",
      "116/116 [==============================] - 0s 66us/step - loss: 0.1402 - acc: 0.3707 - val_loss: 0.4159 - val_acc: 0.1538\n",
      "Epoch 66/200\n",
      "116/116 [==============================] - 0s 72us/step - loss: 0.1399 - acc: 0.3707 - val_loss: 0.4149 - val_acc: 0.1538\n",
      "Epoch 67/200\n",
      "116/116 [==============================] - 0s 72us/step - loss: 0.1396 - acc: 0.3707 - val_loss: 0.4138 - val_acc: 0.1538\n",
      "Epoch 68/200\n",
      "116/116 [==============================] - 0s 94us/step - loss: 0.1392 - acc: 0.3707 - val_loss: 0.4128 - val_acc: 0.1538\n",
      "Epoch 69/200\n",
      "116/116 [==============================] - 0s 71us/step - loss: 0.1389 - acc: 0.3707 - val_loss: 0.4118 - val_acc: 0.1538\n",
      "Epoch 70/200\n",
      "116/116 [==============================] - 0s 52us/step - loss: 0.1386 - acc: 0.3621 - val_loss: 0.4108 - val_acc: 0.1538\n",
      "Epoch 71/200\n",
      "116/116 [==============================] - 0s 62us/step - loss: 0.1383 - acc: 0.3621 - val_loss: 0.4096 - val_acc: 0.1538\n",
      "Epoch 72/200\n",
      "116/116 [==============================] - 0s 99us/step - loss: 0.1380 - acc: 0.3621 - val_loss: 0.4085 - val_acc: 0.1538\n",
      "Epoch 73/200\n",
      "116/116 [==============================] - ETA: 0s - loss: 0.1583 - acc: 0.406 - 0s 98us/step - loss: 0.1376 - acc: 0.3621 - val_loss: 0.4075 - val_acc: 0.1538\n",
      "Epoch 74/200\n",
      "116/116 [==============================] - 0s 94us/step - loss: 0.1373 - acc: 0.3621 - val_loss: 0.4065 - val_acc: 0.1538\n",
      "Epoch 75/200\n",
      "116/116 [==============================] - 0s 108us/step - loss: 0.1370 - acc: 0.3621 - val_loss: 0.4054 - val_acc: 0.1538\n",
      "Epoch 76/200\n",
      "116/116 [==============================] - ETA: 0s - loss: 0.1578 - acc: 0.328 - 0s 130us/step - loss: 0.1367 - acc: 0.3621 - val_loss: 0.4043 - val_acc: 0.1538\n",
      "Epoch 77/200\n",
      "116/116 [==============================] - 0s 116us/step - loss: 0.1363 - acc: 0.3621 - val_loss: 0.4031 - val_acc: 0.1538\n",
      "Epoch 78/200\n",
      "116/116 [==============================] - 0s 114us/step - loss: 0.1360 - acc: 0.3621 - val_loss: 0.4019 - val_acc: 0.1538\n",
      "Epoch 79/200\n",
      "116/116 [==============================] - 0s 93us/step - loss: 0.1356 - acc: 0.3621 - val_loss: 0.4008 - val_acc: 0.2308\n",
      "Epoch 80/200\n",
      "116/116 [==============================] - 0s 125us/step - loss: 0.1353 - acc: 0.3621 - val_loss: 0.3996 - val_acc: 0.2308\n",
      "Epoch 81/200\n",
      "116/116 [==============================] - 0s 95us/step - loss: 0.1350 - acc: 0.3621 - val_loss: 0.3983 - val_acc: 0.2308\n",
      "Epoch 82/200\n",
      "116/116 [==============================] - 0s 111us/step - loss: 0.1346 - acc: 0.3621 - val_loss: 0.3972 - val_acc: 0.2308\n",
      "Epoch 83/200\n",
      "116/116 [==============================] - 0s 85us/step - loss: 0.1343 - acc: 0.3621 - val_loss: 0.3960 - val_acc: 0.2308\n",
      "Epoch 84/200\n",
      "116/116 [==============================] - 0s 96us/step - loss: 0.1340 - acc: 0.3621 - val_loss: 0.3947 - val_acc: 0.2308\n",
      "Epoch 85/200\n",
      "116/116 [==============================] - 0s 124us/step - loss: 0.1336 - acc: 0.3707 - val_loss: 0.3935 - val_acc: 0.2308\n",
      "Epoch 86/200\n",
      "116/116 [==============================] - 0s 113us/step - loss: 0.1332 - acc: 0.3707 - val_loss: 0.3923 - val_acc: 0.2308\n",
      "Epoch 87/200\n",
      "116/116 [==============================] - 0s 121us/step - loss: 0.1329 - acc: 0.3707 - val_loss: 0.3911 - val_acc: 0.2308\n",
      "Epoch 88/200\n",
      "116/116 [==============================] - 0s 80us/step - loss: 0.1326 - acc: 0.3707 - val_loss: 0.3897 - val_acc: 0.2308\n",
      "Epoch 89/200\n",
      "116/116 [==============================] - 0s 49us/step - loss: 0.1322 - acc: 0.3707 - val_loss: 0.3884 - val_acc: 0.2308\n",
      "Epoch 90/200\n",
      "116/116 [==============================] - 0s 57us/step - loss: 0.1318 - acc: 0.3707 - val_loss: 0.3871 - val_acc: 0.2308\n",
      "Epoch 91/200\n",
      "116/116 [==============================] - 0s 54us/step - loss: 0.1315 - acc: 0.3621 - val_loss: 0.3858 - val_acc: 0.2308\n",
      "Epoch 92/200\n",
      "116/116 [==============================] - 0s 49us/step - loss: 0.1311 - acc: 0.3707 - val_loss: 0.3844 - val_acc: 0.2308\n",
      "Epoch 93/200\n",
      "116/116 [==============================] - 0s 54us/step - loss: 0.1307 - acc: 0.3707 - val_loss: 0.3831 - val_acc: 0.2308\n",
      "Epoch 94/200\n",
      "116/116 [==============================] - 0s 61us/step - loss: 0.1304 - acc: 0.3707 - val_loss: 0.3816 - val_acc: 0.2308\n",
      "Epoch 95/200\n",
      "116/116 [==============================] - 0s 52us/step - loss: 0.1301 - acc: 0.3707 - val_loss: 0.3802 - val_acc: 0.2308\n",
      "Epoch 96/200\n",
      "116/116 [==============================] - 0s 49us/step - loss: 0.1296 - acc: 0.3707 - val_loss: 0.3789 - val_acc: 0.2308\n",
      "Epoch 97/200\n",
      "116/116 [==============================] - 0s 78us/step - loss: 0.1293 - acc: 0.3707 - val_loss: 0.3776 - val_acc: 0.2308\n",
      "Epoch 98/200\n",
      "116/116 [==============================] - 0s 43us/step - loss: 0.1289 - acc: 0.3707 - val_loss: 0.3763 - val_acc: 0.2308\n",
      "Epoch 99/200\n",
      "116/116 [==============================] - 0s 52us/step - loss: 0.1285 - acc: 0.3707 - val_loss: 0.3751 - val_acc: 0.2308\n",
      "Epoch 100/200\n",
      "116/116 [==============================] - 0s 50us/step - loss: 0.1282 - acc: 0.3707 - val_loss: 0.3738 - val_acc: 0.2308\n",
      "Epoch 101/200\n",
      "116/116 [==============================] - 0s 52us/step - loss: 0.1278 - acc: 0.3707 - val_loss: 0.3726 - val_acc: 0.2308\n",
      "Epoch 102/200\n",
      "116/116 [==============================] - 0s 48us/step - loss: 0.1274 - acc: 0.3707 - val_loss: 0.3713 - val_acc: 0.2308\n",
      "Epoch 103/200\n",
      "116/116 [==============================] - 0s 51us/step - loss: 0.1271 - acc: 0.3707 - val_loss: 0.3700 - val_acc: 0.2308\n",
      "Epoch 104/200\n",
      "116/116 [==============================] - 0s 45us/step - loss: 0.1267 - acc: 0.3707 - val_loss: 0.3687 - val_acc: 0.2308\n",
      "Epoch 105/200\n",
      "116/116 [==============================] - 0s 39us/step - loss: 0.1263 - acc: 0.3707 - val_loss: 0.3673 - val_acc: 0.2308\n",
      "Epoch 106/200\n",
      "116/116 [==============================] - 0s 46us/step - loss: 0.1259 - acc: 0.3707 - val_loss: 0.3659 - val_acc: 0.2308\n",
      "Epoch 107/200\n",
      "116/116 [==============================] - 0s 52us/step - loss: 0.1255 - acc: 0.3707 - val_loss: 0.3644 - val_acc: 0.2308\n",
      "Epoch 108/200\n",
      "116/116 [==============================] - 0s 51us/step - loss: 0.1251 - acc: 0.3707 - val_loss: 0.3629 - val_acc: 0.2308\n",
      "Epoch 109/200\n",
      "116/116 [==============================] - 0s 43us/step - loss: 0.1247 - acc: 0.3707 - val_loss: 0.3614 - val_acc: 0.2308\n",
      "Epoch 110/200\n",
      "116/116 [==============================] - 0s 42us/step - loss: 0.1242 - acc: 0.3707 - val_loss: 0.3599 - val_acc: 0.3077\n",
      "Epoch 111/200\n",
      "116/116 [==============================] - 0s 50us/step - loss: 0.1238 - acc: 0.3707 - val_loss: 0.3584 - val_acc: 0.3077\n",
      "Epoch 112/200\n",
      "116/116 [==============================] - 0s 50us/step - loss: 0.1235 - acc: 0.3707 - val_loss: 0.3569 - val_acc: 0.3077\n",
      "Epoch 113/200\n",
      "116/116 [==============================] - 0s 56us/step - loss: 0.1231 - acc: 0.3707 - val_loss: 0.3555 - val_acc: 0.3077\n",
      "Epoch 114/200\n",
      "116/116 [==============================] - 0s 53us/step - loss: 0.1226 - acc: 0.3707 - val_loss: 0.3541 - val_acc: 0.3077\n",
      "Epoch 115/200\n",
      "116/116 [==============================] - 0s 43us/step - loss: 0.1222 - acc: 0.3707 - val_loss: 0.3528 - val_acc: 0.3077\n",
      "Epoch 116/200\n",
      "116/116 [==============================] - 0s 43us/step - loss: 0.1219 - acc: 0.3707 - val_loss: 0.3514 - val_acc: 0.3077\n",
      "Epoch 117/200\n",
      "116/116 [==============================] - 0s 57us/step - loss: 0.1214 - acc: 0.3707 - val_loss: 0.3501 - val_acc: 0.3077\n",
      "Epoch 118/200\n",
      "116/116 [==============================] - 0s 68us/step - loss: 0.1210 - acc: 0.3707 - val_loss: 0.3488 - val_acc: 0.3077\n",
      "Epoch 119/200\n",
      "116/116 [==============================] - 0s 62us/step - loss: 0.1206 - acc: 0.3707 - val_loss: 0.3475 - val_acc: 0.3077\n",
      "Epoch 120/200\n",
      "116/116 [==============================] - 0s 91us/step - loss: 0.1203 - acc: 0.3707 - val_loss: 0.3462 - val_acc: 0.3077\n"
     ]
    },
    {
     "name": "stdout",
     "output_type": "stream",
     "text": [
      "Epoch 121/200\n",
      "116/116 [==============================] - 0s 68us/step - loss: 0.1199 - acc: 0.3707 - val_loss: 0.3448 - val_acc: 0.3077\n",
      "Epoch 122/200\n",
      "116/116 [==============================] - 0s 82us/step - loss: 0.1195 - acc: 0.3707 - val_loss: 0.3434 - val_acc: 0.3077\n",
      "Epoch 123/200\n",
      "116/116 [==============================] - 0s 89us/step - loss: 0.1191 - acc: 0.3707 - val_loss: 0.3421 - val_acc: 0.3077\n",
      "Epoch 124/200\n",
      "116/116 [==============================] - 0s 55us/step - loss: 0.1188 - acc: 0.3707 - val_loss: 0.3407 - val_acc: 0.3077\n",
      "Epoch 125/200\n",
      "116/116 [==============================] - 0s 96us/step - loss: 0.1184 - acc: 0.3707 - val_loss: 0.3393 - val_acc: 0.3077\n",
      "Epoch 126/200\n",
      "116/116 [==============================] - 0s 48us/step - loss: 0.1180 - acc: 0.3707 - val_loss: 0.3378 - val_acc: 0.3077\n",
      "Epoch 127/200\n",
      "116/116 [==============================] - 0s 49us/step - loss: 0.1176 - acc: 0.3707 - val_loss: 0.3365 - val_acc: 0.3077\n",
      "Epoch 128/200\n",
      "116/116 [==============================] - 0s 59us/step - loss: 0.1173 - acc: 0.3707 - val_loss: 0.3351 - val_acc: 0.3077\n",
      "Epoch 129/200\n",
      "116/116 [==============================] - 0s 56us/step - loss: 0.1169 - acc: 0.3707 - val_loss: 0.3338 - val_acc: 0.3077\n",
      "Epoch 130/200\n",
      "116/116 [==============================] - 0s 62us/step - loss: 0.1166 - acc: 0.3707 - val_loss: 0.3325 - val_acc: 0.3077\n",
      "Epoch 131/200\n",
      "116/116 [==============================] - 0s 59us/step - loss: 0.1162 - acc: 0.3707 - val_loss: 0.3313 - val_acc: 0.3077\n",
      "Epoch 132/200\n",
      "116/116 [==============================] - 0s 52us/step - loss: 0.1159 - acc: 0.3707 - val_loss: 0.3300 - val_acc: 0.3077\n",
      "Epoch 133/200\n",
      "116/116 [==============================] - 0s 56us/step - loss: 0.1156 - acc: 0.3707 - val_loss: 0.3287 - val_acc: 0.3077\n",
      "Epoch 134/200\n",
      "116/116 [==============================] - 0s 40us/step - loss: 0.1152 - acc: 0.3707 - val_loss: 0.3275 - val_acc: 0.3077\n",
      "Epoch 135/200\n",
      "116/116 [==============================] - 0s 51us/step - loss: 0.1149 - acc: 0.3707 - val_loss: 0.3263 - val_acc: 0.3077\n",
      "Epoch 136/200\n",
      "116/116 [==============================] - 0s 52us/step - loss: 0.1146 - acc: 0.3707 - val_loss: 0.3251 - val_acc: 0.3077\n",
      "Epoch 137/200\n",
      "116/116 [==============================] - 0s 60us/step - loss: 0.1143 - acc: 0.3707 - val_loss: 0.3240 - val_acc: 0.3077\n",
      "Epoch 138/200\n",
      "116/116 [==============================] - 0s 54us/step - loss: 0.1140 - acc: 0.3707 - val_loss: 0.3228 - val_acc: 0.3077\n",
      "Epoch 139/200\n",
      "116/116 [==============================] - 0s 62us/step - loss: 0.1137 - acc: 0.3707 - val_loss: 0.3217 - val_acc: 0.3077\n",
      "Epoch 140/200\n",
      "116/116 [==============================] - 0s 63us/step - loss: 0.1133 - acc: 0.3707 - val_loss: 0.3206 - val_acc: 0.3077\n",
      "Epoch 141/200\n",
      "116/116 [==============================] - 0s 68us/step - loss: 0.1131 - acc: 0.3707 - val_loss: 0.3197 - val_acc: 0.3077\n",
      "Epoch 142/200\n",
      "116/116 [==============================] - 0s 64us/step - loss: 0.1127 - acc: 0.3707 - val_loss: 0.3187 - val_acc: 0.3077\n",
      "Epoch 143/200\n",
      "116/116 [==============================] - 0s 65us/step - loss: 0.1124 - acc: 0.3707 - val_loss: 0.3177 - val_acc: 0.3077\n",
      "Epoch 144/200\n",
      "116/116 [==============================] - 0s 57us/step - loss: 0.1121 - acc: 0.3707 - val_loss: 0.3167 - val_acc: 0.3077\n",
      "Epoch 145/200\n",
      "116/116 [==============================] - 0s 76us/step - loss: 0.1118 - acc: 0.3707 - val_loss: 0.3157 - val_acc: 0.3077\n",
      "Epoch 146/200\n",
      "116/116 [==============================] - 0s 82us/step - loss: 0.1115 - acc: 0.3707 - val_loss: 0.3147 - val_acc: 0.3077\n",
      "Epoch 147/200\n",
      "116/116 [==============================] - 0s 61us/step - loss: 0.1112 - acc: 0.3707 - val_loss: 0.3137 - val_acc: 0.3077\n",
      "Epoch 148/200\n",
      "116/116 [==============================] - 0s 49us/step - loss: 0.1109 - acc: 0.3707 - val_loss: 0.3127 - val_acc: 0.3077\n",
      "Epoch 149/200\n",
      "116/116 [==============================] - 0s 52us/step - loss: 0.1106 - acc: 0.3707 - val_loss: 0.3118 - val_acc: 0.3077\n",
      "Epoch 150/200\n",
      "116/116 [==============================] - 0s 48us/step - loss: 0.1103 - acc: 0.3707 - val_loss: 0.3109 - val_acc: 0.3077\n",
      "Epoch 151/200\n",
      "116/116 [==============================] - 0s 60us/step - loss: 0.1100 - acc: 0.3707 - val_loss: 0.3099 - val_acc: 0.3077\n",
      "Epoch 152/200\n",
      "116/116 [==============================] - 0s 60us/step - loss: 0.1098 - acc: 0.3707 - val_loss: 0.3091 - val_acc: 0.3077\n",
      "Epoch 153/200\n",
      "116/116 [==============================] - 0s 74us/step - loss: 0.1094 - acc: 0.3707 - val_loss: 0.3081 - val_acc: 0.3077\n",
      "Epoch 154/200\n",
      "116/116 [==============================] - 0s 50us/step - loss: 0.1091 - acc: 0.3707 - val_loss: 0.3070 - val_acc: 0.3077\n",
      "Epoch 155/200\n",
      "116/116 [==============================] - 0s 47us/step - loss: 0.1088 - acc: 0.3707 - val_loss: 0.3061 - val_acc: 0.3077\n",
      "Epoch 156/200\n",
      "116/116 [==============================] - 0s 46us/step - loss: 0.1085 - acc: 0.3793 - val_loss: 0.3051 - val_acc: 0.3077\n",
      "Epoch 157/200\n",
      "116/116 [==============================] - 0s 56us/step - loss: 0.1082 - acc: 0.3793 - val_loss: 0.3041 - val_acc: 0.3077\n",
      "Epoch 158/200\n",
      "116/116 [==============================] - 0s 53us/step - loss: 0.1079 - acc: 0.3793 - val_loss: 0.3032 - val_acc: 0.3077\n",
      "Epoch 159/200\n",
      "116/116 [==============================] - 0s 53us/step - loss: 0.1077 - acc: 0.3793 - val_loss: 0.3022 - val_acc: 0.3077\n",
      "Epoch 160/200\n",
      "116/116 [==============================] - 0s 46us/step - loss: 0.1074 - acc: 0.3879 - val_loss: 0.3013 - val_acc: 0.3077\n",
      "Epoch 161/200\n",
      "116/116 [==============================] - 0s 48us/step - loss: 0.1071 - acc: 0.3879 - val_loss: 0.3004 - val_acc: 0.3077\n",
      "Epoch 162/200\n",
      "116/116 [==============================] - 0s 51us/step - loss: 0.1068 - acc: 0.3879 - val_loss: 0.2995 - val_acc: 0.3077\n",
      "Epoch 163/200\n",
      "116/116 [==============================] - 0s 50us/step - loss: 0.1065 - acc: 0.3793 - val_loss: 0.2987 - val_acc: 0.3077\n",
      "Epoch 164/200\n",
      "116/116 [==============================] - 0s 60us/step - loss: 0.1062 - acc: 0.3793 - val_loss: 0.2979 - val_acc: 0.3077\n",
      "Epoch 165/200\n",
      "116/116 [==============================] - 0s 61us/step - loss: 0.1060 - acc: 0.3793 - val_loss: 0.2971 - val_acc: 0.3077\n",
      "Epoch 166/200\n",
      "116/116 [==============================] - 0s 67us/step - loss: 0.1057 - acc: 0.3793 - val_loss: 0.2962 - val_acc: 0.3077\n",
      "Epoch 167/200\n",
      "116/116 [==============================] - 0s 65us/step - loss: 0.1054 - acc: 0.3793 - val_loss: 0.2953 - val_acc: 0.3077\n",
      "Epoch 168/200\n",
      "116/116 [==============================] - 0s 79us/step - loss: 0.1052 - acc: 0.3793 - val_loss: 0.2944 - val_acc: 0.3077\n",
      "Epoch 169/200\n",
      "116/116 [==============================] - 0s 95us/step - loss: 0.1049 - acc: 0.3793 - val_loss: 0.2934 - val_acc: 0.3077\n",
      "Epoch 170/200\n",
      "116/116 [==============================] - 0s 94us/step - loss: 0.1046 - acc: 0.3793 - val_loss: 0.2925 - val_acc: 0.3077\n",
      "Epoch 171/200\n",
      "116/116 [==============================] - 0s 48us/step - loss: 0.1043 - acc: 0.3879 - val_loss: 0.2915 - val_acc: 0.3077\n",
      "Epoch 172/200\n",
      "116/116 [==============================] - 0s 73us/step - loss: 0.1041 - acc: 0.3879 - val_loss: 0.2905 - val_acc: 0.3077\n",
      "Epoch 173/200\n",
      "116/116 [==============================] - 0s 76us/step - loss: 0.1038 - acc: 0.3879 - val_loss: 0.2896 - val_acc: 0.3077\n",
      "Epoch 174/200\n",
      "116/116 [==============================] - 0s 55us/step - loss: 0.1035 - acc: 0.3966 - val_loss: 0.2886 - val_acc: 0.3077\n",
      "Epoch 175/200\n",
      "116/116 [==============================] - 0s 68us/step - loss: 0.1033 - acc: 0.3966 - val_loss: 0.2875 - val_acc: 0.3077\n",
      "Epoch 176/200\n",
      "116/116 [==============================] - 0s 54us/step - loss: 0.1030 - acc: 0.3966 - val_loss: 0.2866 - val_acc: 0.3077\n",
      "Epoch 177/200\n",
      "116/116 [==============================] - 0s 52us/step - loss: 0.1028 - acc: 0.4052 - val_loss: 0.2857 - val_acc: 0.3077\n",
      "Epoch 178/200\n",
      "116/116 [==============================] - 0s 75us/step - loss: 0.1026 - acc: 0.4052 - val_loss: 0.2849 - val_acc: 0.3077\n",
      "Epoch 179/200\n",
      "116/116 [==============================] - 0s 47us/step - loss: 0.1023 - acc: 0.4052 - val_loss: 0.2840 - val_acc: 0.3077\n",
      "Epoch 180/200\n",
      "116/116 [==============================] - 0s 59us/step - loss: 0.1021 - acc: 0.4052 - val_loss: 0.2832 - val_acc: 0.3077\n",
      "Epoch 181/200\n"
     ]
    },
    {
     "name": "stdout",
     "output_type": "stream",
     "text": [
      "116/116 [==============================] - 0s 70us/step - loss: 0.1018 - acc: 0.4052 - val_loss: 0.2824 - val_acc: 0.3077\n",
      "Epoch 182/200\n",
      "116/116 [==============================] - 0s 76us/step - loss: 0.1016 - acc: 0.4052 - val_loss: 0.2816 - val_acc: 0.3077\n",
      "Epoch 183/200\n",
      "116/116 [==============================] - 0s 101us/step - loss: 0.1014 - acc: 0.3966 - val_loss: 0.2808 - val_acc: 0.3077\n",
      "Epoch 184/200\n",
      "116/116 [==============================] - 0s 47us/step - loss: 0.1012 - acc: 0.3966 - val_loss: 0.2800 - val_acc: 0.3077\n",
      "Epoch 185/200\n",
      "116/116 [==============================] - 0s 78us/step - loss: 0.1009 - acc: 0.3966 - val_loss: 0.2791 - val_acc: 0.3077\n",
      "Epoch 186/200\n",
      "116/116 [==============================] - 0s 78us/step - loss: 0.1007 - acc: 0.3966 - val_loss: 0.2783 - val_acc: 0.3077\n",
      "Epoch 187/200\n",
      "116/116 [==============================] - 0s 64us/step - loss: 0.1005 - acc: 0.3966 - val_loss: 0.2774 - val_acc: 0.3077\n",
      "Epoch 188/200\n",
      "116/116 [==============================] - 0s 93us/step - loss: 0.1002 - acc: 0.4052 - val_loss: 0.2766 - val_acc: 0.3077\n",
      "Epoch 189/200\n",
      "116/116 [==============================] - 0s 39us/step - loss: 0.1000 - acc: 0.4052 - val_loss: 0.2758 - val_acc: 0.3077\n",
      "Epoch 190/200\n",
      "116/116 [==============================] - 0s 50us/step - loss: 0.0998 - acc: 0.4052 - val_loss: 0.2750 - val_acc: 0.3077\n",
      "Epoch 191/200\n",
      "116/116 [==============================] - 0s 49us/step - loss: 0.0995 - acc: 0.4052 - val_loss: 0.2743 - val_acc: 0.3077\n",
      "Epoch 192/200\n",
      "116/116 [==============================] - 0s 56us/step - loss: 0.0993 - acc: 0.4052 - val_loss: 0.2736 - val_acc: 0.3077\n",
      "Epoch 193/200\n",
      "116/116 [==============================] - 0s 50us/step - loss: 0.0991 - acc: 0.4052 - val_loss: 0.2729 - val_acc: 0.3077\n",
      "Epoch 194/200\n",
      "116/116 [==============================] - 0s 49us/step - loss: 0.0989 - acc: 0.4052 - val_loss: 0.2722 - val_acc: 0.3077\n",
      "Epoch 195/200\n",
      "116/116 [==============================] - 0s 42us/step - loss: 0.0987 - acc: 0.4052 - val_loss: 0.2714 - val_acc: 0.3077\n",
      "Epoch 196/200\n",
      "116/116 [==============================] - 0s 48us/step - loss: 0.0985 - acc: 0.4052 - val_loss: 0.2707 - val_acc: 0.3077\n",
      "Epoch 197/200\n",
      "116/116 [==============================] - 0s 54us/step - loss: 0.0983 - acc: 0.4052 - val_loss: 0.2698 - val_acc: 0.3077\n",
      "Epoch 198/200\n",
      "116/116 [==============================] - 0s 61us/step - loss: 0.0980 - acc: 0.4052 - val_loss: 0.2690 - val_acc: 0.3077\n",
      "Epoch 199/200\n",
      "116/116 [==============================] - 0s 51us/step - loss: 0.0978 - acc: 0.4052 - val_loss: 0.2682 - val_acc: 0.3077\n",
      "Epoch 200/200\n",
      "116/116 [==============================] - 0s 47us/step - loss: 0.0976 - acc: 0.4052 - val_loss: 0.2674 - val_acc: 0.3077\n"
     ]
    }
   ],
   "source": [
    "#神经网络训练及结果\n",
    "history = model.fit(X, y, epochs =epoch, batch_size = batch_size,verbose=1,validation_split=0.1) #训练模型nb_epoch次"
   ]
  },
  {
   "cell_type": "code",
   "execution_count": 76,
   "metadata": {},
   "outputs": [
    {
     "name": "stdout",
     "output_type": "stream",
     "text": [
      "(1, 12)\n"
     ]
    }
   ],
   "source": [
    "#筛选测试集\n",
    "test=pd.read_csv(test_file,header=0) \n",
    "test=test['passengers']/scale#选数据集的哪一列\n",
    "test=np.reshape(test.values, (1, window))\n",
    "print(test.shape)"
   ]
  },
  {
   "cell_type": "code",
   "execution_count": 77,
   "metadata": {},
   "outputs": [
    {
     "name": "stdout",
     "output_type": "stream",
     "text": [
      "[435.31952 450.9297  521.5045 ]\n"
     ]
    }
   ],
   "source": [
    "#实际预测\n",
    "predict=model.predict(test)[0,:]*scale\n",
    "#储存文件\n",
    "(pd.DataFrame(predict)).to_csv(save_file)\n",
    "print(predict)"
   ]
  },
  {
   "cell_type": "code",
   "execution_count": 78,
   "metadata": {
    "colab": {},
    "colab_type": "code",
    "executionInfo": {
     "elapsed": 25217,
     "status": "ok",
     "timestamp": 1597492094690,
     "user": {
      "displayName": "Expss Xu",
      "photoUrl": "",
      "userId": "17480852382145563764"
     },
     "user_tz": -480
    },
    "id": "Dx57DzoPotj7"
   },
   "outputs": [
    {
     "data": {
      "image/png": "[encoded data removed]",
      "text/plain": [
       "<Figure size 432x288 with 1 Axes>"
      ]
     },
     "metadata": {},
     "output_type": "display_data"
    }
   ],
   "source": [
    "#迭代图像\n",
    "loss = history.history['loss']\n",
    "val_loss = history.history['val_loss']\n",
    "epochs_range = range(epoch)\n",
    "plt.plot(epochs_range, loss, label='Train Loss')\n",
    "plt.plot(epochs_range, val_loss, label='Validation Loss')\n",
    "plt.legend(loc='upper right')\n",
    "plt.title('Train and Val Loss')\n",
    "plt.show()"
   ]
  },
  {
   "cell_type": "code",
   "execution_count": 79,
   "metadata": {},
   "outputs": [
    {
     "data": {
      "image/png": "[encoded data removed]",
      "text/plain": [
       "<Figure size 1080x360 with 1 Axes>"
      ]
     },
     "metadata": {},
     "output_type": "display_data"
    }
   ],
   "source": [
    "\n",
    "data_times=np.arange(len(data))\n",
    "all_data=np.hstack((data,predict)) \n",
    "predicted_times=np.arange(len(all_data))\n",
    "plt.figure(figsize=(15, 5))\n",
    "plt.axvline(len(data), linestyle=\"dotted\", linewidth=5, color='r')\n",
    "predicted_lines = plt.plot(predicted_times, all_data, label=\"prediction\", color=\"b\")\n",
    "data_lines = plt.plot(data_times, data, label=\"data\", color=\"k\")\n",
    "plt.legend(handles=[data_lines[0], predicted_lines[0]],loc=\"upper left\")\n",
    "#为训练，验证，预测数据分别创建图例\n",
    "plt.show()"
   ]
  },
  {
   "cell_type": "code",
   "execution_count": null,
   "metadata": {
    "colab": {},
    "colab_type": "code",
    "executionInfo": {
     "elapsed": 25211,
     "status": "ok",
     "timestamp": 1597492094691,
     "user": {
      "displayName": "Expss Xu",
      "photoUrl": "",
      "userId": "17480852382145563764"
     },
     "user_tz": -480
    },
    "id": "7kbUZXklotkA"
   },
   "outputs": [],
   "source": []
  },
  {
   "cell_type": "code",
   "execution_count": null,
   "metadata": {},
   "outputs": [],
   "source": []
  },
  {
   "cell_type": "code",
   "execution_count": null,
   "metadata": {},
   "outputs": [],
   "source": []
  }
 ],
 "metadata": {
  "anaconda-cloud": {},
  "colab": {
   "collapsed_sections": [],
   "name": "lstm.ipynb",
   "provenance": []
  },
  "kernelspec": {
   "display_name": "Python 3",
   "language": "python",
   "name": "python3"
  },
  "language_info": {
   "codemirror_mode": {
    "name": "ipython",
    "version": 3
   },
   "file_extension": ".py",
   "mimetype": "text/x-python",
   "name": "python",
   "nbconvert_exporter": "python",
   "pygments_lexer": "ipython3",
   "version": "3.6.10"
  }
 },
 "nbformat": 4,
 "nbformat_minor": 1
}
