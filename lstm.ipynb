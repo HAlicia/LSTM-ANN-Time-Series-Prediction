{
 "cells": [
  {
   "cell_type": "code",
   "execution_count": 25,
   "metadata": {
    "colab": {},
    "colab_type": "code",
    "executionInfo": {
     "elapsed": 2587,
     "status": "ok",
     "timestamp": 1597492072008,
     "user": {
      "displayName": "Expss Xu",
      "photoUrl": "",
      "userId": "17480852382145563764"
     },
     "user_tz": -480
    },
    "id": "5NCGpNCVotjd"
   },
   "outputs": [],
   "source": [
    "#导入必须的库\n",
    "import numpy as np\n",
    "import matplotlib.pyplot as plt\n",
    "import pandas as pd\n",
    "from sklearn.metrics import mean_squared_error\n",
    "from sklearn.metrics import mean_absolute_error\n",
    "plt.style.use('fivethirtyeight')#画图风格\n",
    "np.random.seed(100)\n",
    "window=12#时间窗\n",
    "label_dim=8#标签纬度\n",
    "scale=100#归一化参数\n",
    "amount_of_features=1#特征数量\n",
    "d=0.05#dropout系数\n",
    "batch_size=12#批训练数量\n",
    "epoch=200#总迭代次数\n",
    "train_file='international-airline-passengers.csv'#读取训练集地址\n",
    "test_file='example.csv'#读取训练集地址\n",
    "save_file='predict_result_lstm.csv'#储存预测值地址"
   ]
  },
  {
   "cell_type": "code",
   "execution_count": 26,
   "metadata": {},
   "outputs": [
    {
     "data": {
      "image/png": "[encoded data removed]",
      "text/plain": [
       "<Figure size 720x360 with 2 Axes>"
      ]
     },
     "metadata": {},
     "output_type": "display_data"
    }
   ],
   "source": [
    "data=pd.read_csv(train_file,header=0) \n",
    "data=data['passengers']#选数据集的哪一列\n",
    "#构造针对机器学习模型的数据集\n",
    "data=data.values \n",
    "dataset=data\n",
    "for i in range(window+label_dim-1):\n",
    "    zero=np.zeros(i+1)\n",
    "    temp=np.append(data[i+1:],zero)\n",
    "    dataset=np.row_stack((dataset,temp))\n",
    "dataset=pd.DataFrame(dataset).T\n",
    "dataset=dataset.iloc[:-(window+label_dim)]\n",
    "dataset=dataset/scale#进行伪归一化\n",
    "import seaborn as sns\n",
    "plt.figure(figsize=(10,5))\n",
    "sns.heatmap(dataset,annot=False)\n",
    "plt.show()#展示下原始数据集"
   ]
  },
  {
   "cell_type": "code",
   "execution_count": 27,
   "metadata": {},
   "outputs": [],
   "source": [
    "#划分特征与标签\n",
    "X=dataset.iloc[:,:window]\n",
    "y=dataset.iloc[:,-label_dim:]"
   ]
  },
  {
   "cell_type": "code",
   "execution_count": 28,
   "metadata": {
    "colab": {
     "base_uri": "https://localhost:8080/",
     "height": 89
    },
    "colab_type": "code",
    "executionInfo": {
     "elapsed": 2576,
     "status": "ok",
     "timestamp": 1597492072008,
     "user": {
      "displayName": "Expss Xu",
      "photoUrl": "",
      "userId": "17480852382145563764"
     },
     "user_tz": -480
    },
    "id": "UqmQarL8otjj",
    "outputId": "068dd905-8a38-40c6-c417-1407aca65c65"
   },
   "outputs": [
    {
     "name": "stdout",
     "output_type": "stream",
     "text": [
      "(124, 12)\n",
      "(124, 8)\n"
     ]
    }
   ],
   "source": [
    "#构造训练集测试集\n",
    "X,y=X.values,y.values\n",
    "print(X.shape)#通过输出训练集测试集的大小来判断数据格式正确。\n",
    "print(y.shape)"
   ]
  },
  {
   "cell_type": "code",
   "execution_count": 29,
   "metadata": {
    "colab": {
     "base_uri": "https://localhost:8080/",
     "height": 89
    },
    "colab_type": "code",
    "executionInfo": {
     "elapsed": 2570,
     "status": "ok",
     "timestamp": 1597492072009,
     "user": {
      "displayName": "Expss Xu",
      "photoUrl": "",
      "userId": "17480852382145563764"
     },
     "user_tz": -480
    },
    "id": "Z14xqX3gotjn",
    "outputId": "54248355-3e0a-4f2d-84e0-1adfaa2dca4c"
   },
   "outputs": [
    {
     "name": "stdout",
     "output_type": "stream",
     "text": [
      "(124, 12, 1)\n",
      "(124, 8)\n"
     ]
    }
   ],
   "source": [
    "#LSTM神经网络的数据集要稍微做一些修改\n",
    "X= np.reshape(X, (X.shape[0],X.shape[1], amount_of_features))\n",
    "print(X.shape)\n",
    "print(y.shape)"
   ]
  },
  {
   "cell_type": "code",
   "execution_count": 30,
   "metadata": {
    "colab": {
     "base_uri": "https://localhost:8080/",
     "height": 269
    },
    "colab_type": "code",
    "executionInfo": {
     "elapsed": 3600,
     "status": "ok",
     "timestamp": 1597492073045,
     "user": {
      "displayName": "Expss Xu",
      "photoUrl": "",
      "userId": "17480852382145563764"
     },
     "user_tz": -480
    },
    "id": "i0dUbIgGotjq",
    "outputId": "9a38af4d-6447-4c0c-c7b0-d6b70db24324"
   },
   "outputs": [
    {
     "name": "stdout",
     "output_type": "stream",
     "text": [
      "_________________________________________________________________\n",
      "Layer (type)                 Output Shape              Param #   \n",
      "=================================================================\n",
      "lstm_3 (LSTM)                (None, 32)                4352      \n",
      "_________________________________________________________________\n",
      "dense_3 (Dense)              (None, 16)                528       \n",
      "_________________________________________________________________\n",
      "dense_4 (Dense)              (None, 8)                 136       \n",
      "=================================================================\n",
      "Total params: 5,016\n",
      "Trainable params: 5,016\n",
      "Non-trainable params: 0\n",
      "_________________________________________________________________\n"
     ]
    }
   ],
   "source": [
    "#建立LSTM模型 训练\n",
    "from keras.models import Sequential\n",
    "from keras.layers.core import Dense, Dropout, Activation,Dropout\n",
    "from keras.layers.recurrent import LSTM\n",
    "#建立训练模型过程\n",
    "model = Sequential()#建立层次模型\n",
    "model.add(LSTM(32, input_shape=(window, amount_of_features), return_sequences=False))#建立LSTM层\n",
    "#model.add(Dropout(d))\n",
    "model.add(Dense(label_dim*2,activation='relu'))   #建立全连接层  \n",
    "#model.add(Dropout(d))\n",
    "model.add(Dense(label_dim))\n",
    "model.compile(loss='mse',optimizer='adam',metrics=['accuracy'])\n",
    "model.summary()"
   ]
  },
  {
   "cell_type": "code",
   "execution_count": 31,
   "metadata": {
    "colab": {
     "base_uri": "https://localhost:8080/",
     "height": 1000
    },
    "colab_type": "code",
    "executionInfo": {
     "elapsed": 22110,
     "status": "ok",
     "timestamp": 1597492091563,
     "user": {
      "displayName": "Expss Xu",
      "photoUrl": "",
      "userId": "17480852382145563764"
     },
     "user_tz": -480
    },
    "id": "j1TvX44ootjs",
    "outputId": "9987a27f-6bcf-4bfb-d47f-b95c46501fe0",
    "scrolled": false
   },
   "outputs": [
    {
     "name": "stdout",
     "output_type": "stream",
     "text": [
      "Train on 111 samples, validate on 13 samples\n",
      "Epoch 1/200\n",
      "111/111 [==============================] - 1s 7ms/step - loss: 7.9568 - acc: 0.0901 - val_loss: 19.7063 - val_acc: 0.1538\n",
      "Epoch 2/200\n",
      "111/111 [==============================] - 0s 812us/step - loss: 7.1506 - acc: 0.0901 - val_loss: 18.1487 - val_acc: 0.1538\n",
      "Epoch 3/200\n",
      "111/111 [==============================] - 0s 871us/step - loss: 6.2971 - acc: 0.0901 - val_loss: 16.2256 - val_acc: 0.1538\n",
      "Epoch 4/200\n",
      "111/111 [==============================] - 0s 883us/step - loss: 5.2531 - acc: 0.0901 - val_loss: 13.7906 - val_acc: 0.1538\n",
      "Epoch 5/200\n",
      "111/111 [==============================] - 0s 870us/step - loss: 4.0172 - acc: 0.0901 - val_loss: 10.9641 - val_acc: 0.1538\n",
      "Epoch 6/200\n",
      "111/111 [==============================] - 0s 880us/step - loss: 2.8970 - acc: 0.0901 - val_loss: 8.1816 - val_acc: 0.1538\n",
      "Epoch 7/200\n",
      "111/111 [==============================] - 0s 821us/step - loss: 2.0284 - acc: 0.0901 - val_loss: 6.2961 - val_acc: 0.1538\n",
      "Epoch 8/200\n",
      "111/111 [==============================] - 0s 839us/step - loss: 1.4619 - acc: 0.0901 - val_loss: 5.0615 - val_acc: 0.1538\n",
      "Epoch 9/200\n",
      "111/111 [==============================] - 0s 988us/step - loss: 1.0562 - acc: 0.0901 - val_loss: 3.8703 - val_acc: 0.1538\n",
      "Epoch 10/200\n",
      "111/111 [==============================] - 0s 786us/step - loss: 0.7684 - acc: 0.0901 - val_loss: 2.9948 - val_acc: 0.1538\n",
      "Epoch 11/200\n",
      "111/111 [==============================] - 0s 861us/step - loss: 0.5301 - acc: 0.0991 - val_loss: 2.3896 - val_acc: 0.1538\n",
      "Epoch 12/200\n",
      "111/111 [==============================] - 0s 823us/step - loss: 0.3716 - acc: 0.0811 - val_loss: 1.9681 - val_acc: 0.1538\n",
      "Epoch 13/200\n",
      "111/111 [==============================] - 0s 792us/step - loss: 0.2758 - acc: 0.0901 - val_loss: 1.5245 - val_acc: 0.1538\n",
      "Epoch 14/200\n",
      "111/111 [==============================] - 0s 845us/step - loss: 0.2242 - acc: 0.0991 - val_loss: 1.2932 - val_acc: 0.1538\n",
      "Epoch 15/200\n",
      "111/111 [==============================] - 0s 816us/step - loss: 0.2037 - acc: 0.1171 - val_loss: 1.1250 - val_acc: 0.0769\n",
      "Epoch 16/200\n",
      "111/111 [==============================] - 0s 809us/step - loss: 0.1946 - acc: 0.1802 - val_loss: 1.0196 - val_acc: 0.0769\n",
      "Epoch 17/200\n",
      "111/111 [==============================] - 0s 786us/step - loss: 0.1834 - acc: 0.1622 - val_loss: 0.9212 - val_acc: 0.0769\n",
      "Epoch 18/200\n",
      "111/111 [==============================] - 0s 800us/step - loss: 0.1825 - acc: 0.1712 - val_loss: 0.9114 - val_acc: 0.0769\n",
      "Epoch 19/200\n",
      "111/111 [==============================] - 0s 795us/step - loss: 0.1791 - acc: 0.2162 - val_loss: 0.8947 - val_acc: 0.2308\n",
      "Epoch 20/200\n",
      "111/111 [==============================] - 0s 792us/step - loss: 0.1758 - acc: 0.2162 - val_loss: 0.9223 - val_acc: 0.2308\n",
      "Epoch 21/200\n",
      "111/111 [==============================] - 0s 780us/step - loss: 0.1731 - acc: 0.2162 - val_loss: 0.8695 - val_acc: 0.2308\n",
      "Epoch 22/200\n",
      "111/111 [==============================] - 0s 787us/step - loss: 0.1801 - acc: 0.2162 - val_loss: 0.9087 - val_acc: 0.2308\n",
      "Epoch 23/200\n",
      "111/111 [==============================] - 0s 776us/step - loss: 0.1714 - acc: 0.2162 - val_loss: 0.8951 - val_acc: 0.2308\n",
      "Epoch 24/200\n",
      "111/111 [==============================] - 0s 787us/step - loss: 0.1713 - acc: 0.2252 - val_loss: 0.8962 - val_acc: 0.2308\n",
      "Epoch 25/200\n",
      "111/111 [==============================] - 0s 780us/step - loss: 0.1694 - acc: 0.2432 - val_loss: 0.8639 - val_acc: 0.2308\n",
      "Epoch 26/200\n",
      "111/111 [==============================] - 0s 797us/step - loss: 0.1680 - acc: 0.2342 - val_loss: 0.8331 - val_acc: 0.2308\n",
      "Epoch 27/200\n",
      "111/111 [==============================] - 0s 796us/step - loss: 0.1658 - acc: 0.2432 - val_loss: 0.8034 - val_acc: 0.2308\n",
      "Epoch 28/200\n",
      "111/111 [==============================] - 0s 785us/step - loss: 0.1671 - acc: 0.1982 - val_loss: 0.8495 - val_acc: 0.1538\n",
      "Epoch 29/200\n",
      "111/111 [==============================] - 0s 805us/step - loss: 0.1658 - acc: 0.1622 - val_loss: 0.8810 - val_acc: 0.1538\n",
      "Epoch 30/200\n",
      "111/111 [==============================] - 0s 781us/step - loss: 0.1671 - acc: 0.2162 - val_loss: 0.7756 - val_acc: 0.2308\n",
      "Epoch 31/200\n",
      "111/111 [==============================] - 0s 795us/step - loss: 0.1761 - acc: 0.1892 - val_loss: 0.7926 - val_acc: 0.0769\n",
      "Epoch 32/200\n",
      "111/111 [==============================] - 0s 793us/step - loss: 0.1698 - acc: 0.1712 - val_loss: 0.8415 - val_acc: 0.2308\n",
      "Epoch 33/200\n",
      "111/111 [==============================] - 0s 779us/step - loss: 0.1747 - acc: 0.2072 - val_loss: 0.7545 - val_acc: 0.2308\n",
      "Epoch 34/200\n",
      "111/111 [==============================] - 0s 765us/step - loss: 0.1812 - acc: 0.1892 - val_loss: 0.7574 - val_acc: 0.1538\n",
      "Epoch 35/200\n",
      "111/111 [==============================] - 0s 789us/step - loss: 0.1718 - acc: 0.1532 - val_loss: 0.8277 - val_acc: 0.2308\n",
      "Epoch 36/200\n",
      "111/111 [==============================] - 0s 810us/step - loss: 0.1618 - acc: 0.1532 - val_loss: 0.7826 - val_acc: 0.3077\n",
      "Epoch 37/200\n",
      "111/111 [==============================] - 0s 813us/step - loss: 0.1607 - acc: 0.2162 - val_loss: 0.7751 - val_acc: 0.3077\n",
      "Epoch 38/200\n",
      "111/111 [==============================] - 0s 811us/step - loss: 0.1593 - acc: 0.2432 - val_loss: 0.8341 - val_acc: 0.2308\n",
      "Epoch 39/200\n",
      "111/111 [==============================] - 0s 797us/step - loss: 0.1573 - acc: 0.2252 - val_loss: 0.7566 - val_acc: 0.2308\n",
      "Epoch 40/200\n",
      "111/111 [==============================] - 0s 772us/step - loss: 0.1577 - acc: 0.1802 - val_loss: 0.7776 - val_acc: 0.2308\n",
      "Epoch 41/200\n",
      "111/111 [==============================] - 0s 781us/step - loss: 0.1562 - acc: 0.1802 - val_loss: 0.8059 - val_acc: 0.3077\n",
      "Epoch 42/200\n",
      "111/111 [==============================] - 0s 786us/step - loss: 0.1660 - acc: 0.2613 - val_loss: 0.7485 - val_acc: 0.2308\n",
      "Epoch 43/200\n",
      "111/111 [==============================] - 0s 786us/step - loss: 0.1603 - acc: 0.1712 - val_loss: 0.6855 - val_acc: 0.1538\n",
      "Epoch 44/200\n",
      "111/111 [==============================] - 0s 783us/step - loss: 0.1565 - acc: 0.1532 - val_loss: 0.7083 - val_acc: 0.2308\n",
      "Epoch 45/200\n",
      "111/111 [==============================] - 0s 794us/step - loss: 0.1538 - acc: 0.2162 - val_loss: 0.6876 - val_acc: 0.3077\n",
      "Epoch 46/200\n",
      "111/111 [==============================] - 0s 757us/step - loss: 0.1566 - acc: 0.1982 - val_loss: 0.7270 - val_acc: 0.2308\n",
      "Epoch 47/200\n",
      "111/111 [==============================] - 0s 748us/step - loss: 0.1516 - acc: 0.1712 - val_loss: 0.7475 - val_acc: 0.3077\n",
      "Epoch 48/200\n",
      "111/111 [==============================] - 0s 752us/step - loss: 0.1514 - acc: 0.2162 - val_loss: 0.7572 - val_acc: 0.3846\n",
      "Epoch 49/200\n",
      "111/111 [==============================] - 0s 765us/step - loss: 0.1549 - acc: 0.1802 - val_loss: 0.7257 - val_acc: 0.2308\n",
      "Epoch 50/200\n",
      "111/111 [==============================] - 0s 768us/step - loss: 0.1513 - acc: 0.1622 - val_loss: 0.6857 - val_acc: 0.2308\n",
      "Epoch 51/200\n",
      "111/111 [==============================] - 0s 752us/step - loss: 0.1515 - acc: 0.2252 - val_loss: 0.6819 - val_acc: 0.3077\n",
      "Epoch 52/200\n",
      "111/111 [==============================] - 0s 838us/step - loss: 0.1500 - acc: 0.1982 - val_loss: 0.6827 - val_acc: 0.3077\n",
      "Epoch 53/200\n",
      "111/111 [==============================] - 0s 864us/step - loss: 0.1474 - acc: 0.1982 - val_loss: 0.6523 - val_acc: 0.3077\n",
      "Epoch 54/200\n",
      "111/111 [==============================] - 0s 777us/step - loss: 0.1454 - acc: 0.2523 - val_loss: 0.7440 - val_acc: 0.3077\n",
      "Epoch 55/200\n",
      "111/111 [==============================] - 0s 741us/step - loss: 0.1454 - acc: 0.2342 - val_loss: 0.7753 - val_acc: 0.3077\n",
      "Epoch 56/200\n",
      "111/111 [==============================] - 0s 736us/step - loss: 0.1440 - acc: 0.2162 - val_loss: 0.7453 - val_acc: 0.3846\n",
      "Epoch 57/200\n",
      "111/111 [==============================] - 0s 730us/step - loss: 0.1467 - acc: 0.2703 - val_loss: 0.7724 - val_acc: 0.2308\n",
      "Epoch 58/200\n",
      "111/111 [==============================] - 0s 735us/step - loss: 0.1478 - acc: 0.2523 - val_loss: 0.6743 - val_acc: 0.3077\n",
      "Epoch 59/200\n",
      "111/111 [==============================] - 0s 741us/step - loss: 0.1404 - acc: 0.2342 - val_loss: 0.7591 - val_acc: 0.2308\n",
      "Epoch 60/200\n",
      "111/111 [==============================] - 0s 736us/step - loss: 0.1389 - acc: 0.2613 - val_loss: 0.6787 - val_acc: 0.3846\n"
     ]
    },
    {
     "name": "stdout",
     "output_type": "stream",
     "text": [
      "Epoch 61/200\n",
      "111/111 [==============================] - 0s 737us/step - loss: 0.1366 - acc: 0.2252 - val_loss: 0.6618 - val_acc: 0.3846\n",
      "Epoch 62/200\n",
      "111/111 [==============================] - 0s 839us/step - loss: 0.1403 - acc: 0.2883 - val_loss: 0.6716 - val_acc: 0.3846\n",
      "Epoch 63/200\n",
      "111/111 [==============================] - 0s 803us/step - loss: 0.1309 - acc: 0.2703 - val_loss: 0.7254 - val_acc: 0.2308\n",
      "Epoch 64/200\n",
      "111/111 [==============================] - 0s 868us/step - loss: 0.1292 - acc: 0.2883 - val_loss: 0.6759 - val_acc: 0.3077\n",
      "Epoch 65/200\n",
      "111/111 [==============================] - 0s 928us/step - loss: 0.1309 - acc: 0.2523 - val_loss: 0.6707 - val_acc: 0.3077\n",
      "Epoch 66/200\n",
      "111/111 [==============================] - 0s 915us/step - loss: 0.1295 - acc: 0.2432 - val_loss: 0.7325 - val_acc: 0.2308\n",
      "Epoch 67/200\n",
      "111/111 [==============================] - 0s 917us/step - loss: 0.1308 - acc: 0.2523 - val_loss: 0.6362 - val_acc: 0.3077\n",
      "Epoch 68/200\n",
      "111/111 [==============================] - 0s 861us/step - loss: 0.1311 - acc: 0.3063 - val_loss: 0.6510 - val_acc: 0.3846\n",
      "Epoch 69/200\n",
      "111/111 [==============================] - 0s 1ms/step - loss: 0.1214 - acc: 0.2973 - val_loss: 0.5902 - val_acc: 0.3077\n",
      "Epoch 70/200\n",
      "111/111 [==============================] - 0s 937us/step - loss: 0.1272 - acc: 0.2793 - val_loss: 0.6802 - val_acc: 0.2308\n",
      "Epoch 71/200\n",
      "111/111 [==============================] - 0s 876us/step - loss: 0.1201 - acc: 0.2793 - val_loss: 0.6620 - val_acc: 0.3846\n",
      "Epoch 72/200\n",
      "111/111 [==============================] - 0s 915us/step - loss: 0.1167 - acc: 0.2523 - val_loss: 0.8004 - val_acc: 0.0769\n",
      "Epoch 73/200\n",
      "111/111 [==============================] - 0s 862us/step - loss: 0.1185 - acc: 0.1892 - val_loss: 0.6558 - val_acc: 0.2308\n",
      "Epoch 74/200\n",
      "111/111 [==============================] - 0s 919us/step - loss: 0.1149 - acc: 0.3153 - val_loss: 0.6129 - val_acc: 0.3846\n",
      "Epoch 75/200\n",
      "111/111 [==============================] - 0s 965us/step - loss: 0.1147 - acc: 0.3153 - val_loss: 0.5744 - val_acc: 0.3846\n",
      "Epoch 76/200\n",
      "111/111 [==============================] - 0s 1ms/step - loss: 0.1116 - acc: 0.3063 - val_loss: 0.5835 - val_acc: 0.1538\n",
      "Epoch 77/200\n",
      "111/111 [==============================] - 0s 1ms/step - loss: 0.1072 - acc: 0.2703 - val_loss: 0.5114 - val_acc: 0.3077\n",
      "Epoch 78/200\n",
      "111/111 [==============================] - 0s 1ms/step - loss: 0.1121 - acc: 0.2703 - val_loss: 0.5618 - val_acc: 0.2308\n",
      "Epoch 79/200\n",
      "111/111 [==============================] - 0s 1ms/step - loss: 0.1085 - acc: 0.2432 - val_loss: 0.6993 - val_acc: 0.1538\n",
      "Epoch 80/200\n",
      "111/111 [==============================] - 0s 1ms/step - loss: 0.1180 - acc: 0.2523 - val_loss: 0.7533 - val_acc: 0.2308\n",
      "Epoch 81/200\n",
      "111/111 [==============================] - 0s 1ms/step - loss: 0.1138 - acc: 0.2703 - val_loss: 0.6389 - val_acc: 0.3077\n",
      "Epoch 82/200\n",
      "111/111 [==============================] - 0s 1ms/step - loss: 0.1045 - acc: 0.2793 - val_loss: 0.5646 - val_acc: 0.0769\n",
      "Epoch 83/200\n",
      "111/111 [==============================] - 0s 1ms/step - loss: 0.1052 - acc: 0.2703 - val_loss: 0.5082 - val_acc: 0.2308\n",
      "Epoch 84/200\n",
      "111/111 [==============================] - 0s 1ms/step - loss: 0.1017 - acc: 0.2523 - val_loss: 0.5198 - val_acc: 0.2308\n",
      "Epoch 85/200\n",
      "111/111 [==============================] - 0s 1ms/step - loss: 0.1066 - acc: 0.2162 - val_loss: 0.5518 - val_acc: 0.2308\n",
      "Epoch 86/200\n",
      "111/111 [==============================] - 0s 1ms/step - loss: 0.1093 - acc: 0.3243 - val_loss: 0.5060 - val_acc: 0.3077\n",
      "Epoch 87/200\n",
      "111/111 [==============================] - 0s 1ms/step - loss: 0.0992 - acc: 0.2613 - val_loss: 0.5591 - val_acc: 0.2308\n",
      "Epoch 88/200\n",
      "111/111 [==============================] - 0s 1ms/step - loss: 0.0979 - acc: 0.2793 - val_loss: 0.5237 - val_acc: 0.2308\n",
      "Epoch 89/200\n",
      "111/111 [==============================] - 0s 982us/step - loss: 0.0930 - acc: 0.2973 - val_loss: 0.4781 - val_acc: 0.3846\n",
      "Epoch 90/200\n",
      "111/111 [==============================] - 0s 1ms/step - loss: 0.0934 - acc: 0.3423 - val_loss: 0.4611 - val_acc: 0.3077\n",
      "Epoch 91/200\n",
      "111/111 [==============================] - 0s 902us/step - loss: 0.0944 - acc: 0.2973 - val_loss: 0.4754 - val_acc: 0.3846\n",
      "Epoch 92/200\n",
      "111/111 [==============================] - 0s 775us/step - loss: 0.0928 - acc: 0.3063 - val_loss: 0.4495 - val_acc: 0.3077\n",
      "Epoch 93/200\n",
      "111/111 [==============================] - 0s 858us/step - loss: 0.0954 - acc: 0.2883 - val_loss: 0.4964 - val_acc: 0.3846\n",
      "Epoch 94/200\n",
      "111/111 [==============================] - 0s 973us/step - loss: 0.0908 - acc: 0.2973 - val_loss: 0.4629 - val_acc: 0.3077\n",
      "Epoch 95/200\n",
      "111/111 [==============================] - 0s 953us/step - loss: 0.0879 - acc: 0.2793 - val_loss: 0.4767 - val_acc: 0.3846\n",
      "Epoch 96/200\n",
      "111/111 [==============================] - 0s 856us/step - loss: 0.0897 - acc: 0.2973 - val_loss: 0.4404 - val_acc: 0.3846\n",
      "Epoch 97/200\n",
      "111/111 [==============================] - 0s 773us/step - loss: 0.0883 - acc: 0.3514 - val_loss: 0.4971 - val_acc: 0.5385\n",
      "Epoch 98/200\n",
      "111/111 [==============================] - 0s 790us/step - loss: 0.0860 - acc: 0.2342 - val_loss: 0.4721 - val_acc: 0.4615\n",
      "Epoch 99/200\n",
      "111/111 [==============================] - 0s 795us/step - loss: 0.0889 - acc: 0.3423 - val_loss: 0.5240 - val_acc: 0.3846\n",
      "Epoch 100/200\n",
      "111/111 [==============================] - 0s 807us/step - loss: 0.0857 - acc: 0.3604 - val_loss: 0.4308 - val_acc: 0.4615\n",
      "Epoch 101/200\n",
      "111/111 [==============================] - 0s 818us/step - loss: 0.0897 - acc: 0.2973 - val_loss: 0.4963 - val_acc: 0.5385\n",
      "Epoch 102/200\n",
      "111/111 [==============================] - 0s 816us/step - loss: 0.0894 - acc: 0.3604 - val_loss: 0.5137 - val_acc: 0.4615\n",
      "Epoch 103/200\n",
      "111/111 [==============================] - 0s 808us/step - loss: 0.1046 - acc: 0.3063 - val_loss: 0.5676 - val_acc: 0.3846\n",
      "Epoch 104/200\n",
      "111/111 [==============================] - 0s 814us/step - loss: 0.0905 - acc: 0.3333 - val_loss: 0.6175 - val_acc: 0.3077\n",
      "Epoch 105/200\n",
      "111/111 [==============================] - 0s 808us/step - loss: 0.1014 - acc: 0.3423 - val_loss: 0.4978 - val_acc: 0.4615\n",
      "Epoch 106/200\n",
      "111/111 [==============================] - 0s 807us/step - loss: 0.0995 - acc: 0.3153 - val_loss: 0.3539 - val_acc: 0.4615\n",
      "Epoch 107/200\n",
      "111/111 [==============================] - 0s 796us/step - loss: 0.1001 - acc: 0.3153 - val_loss: 0.3443 - val_acc: 0.3846\n",
      "Epoch 108/200\n",
      "111/111 [==============================] - 0s 826us/step - loss: 0.0982 - acc: 0.3694 - val_loss: 0.3855 - val_acc: 0.4615\n",
      "Epoch 109/200\n",
      "111/111 [==============================] - 0s 836us/step - loss: 0.0985 - acc: 0.3423 - val_loss: 0.4306 - val_acc: 0.5385\n",
      "Epoch 110/200\n",
      "111/111 [==============================] - 0s 898us/step - loss: 0.0968 - acc: 0.3333 - val_loss: 0.4606 - val_acc: 0.3846\n",
      "Epoch 111/200\n",
      "111/111 [==============================] - 0s 865us/step - loss: 0.0845 - acc: 0.4144 - val_loss: 0.4007 - val_acc: 0.5385\n",
      "Epoch 112/200\n",
      "111/111 [==============================] - 0s 851us/step - loss: 0.0776 - acc: 0.3784 - val_loss: 0.3902 - val_acc: 0.4615\n",
      "Epoch 113/200\n",
      "111/111 [==============================] - 0s 846us/step - loss: 0.0773 - acc: 0.3514 - val_loss: 0.4312 - val_acc: 0.4615\n",
      "Epoch 114/200\n",
      "111/111 [==============================] - 0s 880us/step - loss: 0.0765 - acc: 0.4234 - val_loss: 0.3996 - val_acc: 0.6154\n",
      "Epoch 115/200\n",
      "111/111 [==============================] - 0s 829us/step - loss: 0.0765 - acc: 0.3964 - val_loss: 0.3796 - val_acc: 0.5385\n",
      "Epoch 116/200\n",
      "111/111 [==============================] - 0s 802us/step - loss: 0.0770 - acc: 0.3604 - val_loss: 0.4157 - val_acc: 0.5385\n",
      "Epoch 117/200\n",
      "111/111 [==============================] - 0s 836us/step - loss: 0.0766 - acc: 0.3784 - val_loss: 0.3799 - val_acc: 0.5385\n",
      "Epoch 118/200\n",
      "111/111 [==============================] - 0s 817us/step - loss: 0.0815 - acc: 0.4054 - val_loss: 0.4398 - val_acc: 0.4615\n",
      "Epoch 119/200\n",
      "111/111 [==============================] - 0s 825us/step - loss: 0.0798 - acc: 0.3604 - val_loss: 0.4246 - val_acc: 0.5385\n",
      "Epoch 120/200\n",
      "111/111 [==============================] - 0s 974us/step - loss: 0.0802 - acc: 0.3874 - val_loss: 0.3815 - val_acc: 0.5385\n",
      "Epoch 121/200\n"
     ]
    },
    {
     "name": "stdout",
     "output_type": "stream",
     "text": [
      "111/111 [==============================] - 0s 874us/step - loss: 0.0734 - acc: 0.3784 - val_loss: 0.3602 - val_acc: 0.6154\n",
      "Epoch 122/200\n",
      "111/111 [==============================] - 0s 834us/step - loss: 0.0748 - acc: 0.3964 - val_loss: 0.3918 - val_acc: 0.3846\n",
      "Epoch 123/200\n",
      "111/111 [==============================] - 0s 821us/step - loss: 0.0725 - acc: 0.3874 - val_loss: 0.3860 - val_acc: 0.5385\n",
      "Epoch 124/200\n",
      "111/111 [==============================] - 0s 834us/step - loss: 0.0720 - acc: 0.3694 - val_loss: 0.3636 - val_acc: 0.5385\n",
      "Epoch 125/200\n",
      "111/111 [==============================] - 0s 833us/step - loss: 0.0692 - acc: 0.4144 - val_loss: 0.4061 - val_acc: 0.5385\n",
      "Epoch 126/200\n",
      "111/111 [==============================] - 0s 819us/step - loss: 0.0686 - acc: 0.3964 - val_loss: 0.3578 - val_acc: 0.4615\n",
      "Epoch 127/200\n",
      "111/111 [==============================] - 0s 804us/step - loss: 0.0687 - acc: 0.4234 - val_loss: 0.3722 - val_acc: 0.4615\n",
      "Epoch 128/200\n",
      "111/111 [==============================] - 0s 828us/step - loss: 0.0662 - acc: 0.4414 - val_loss: 0.3440 - val_acc: 0.5385\n",
      "Epoch 129/200\n",
      "111/111 [==============================] - 0s 844us/step - loss: 0.0681 - acc: 0.4144 - val_loss: 0.3264 - val_acc: 0.6154\n",
      "Epoch 130/200\n",
      "111/111 [==============================] - 0s 861us/step - loss: 0.0706 - acc: 0.4324 - val_loss: 0.3935 - val_acc: 0.4615\n",
      "Epoch 131/200\n",
      "111/111 [==============================] - 0s 818us/step - loss: 0.0728 - acc: 0.3784 - val_loss: 0.4689 - val_acc: 0.5385\n",
      "Epoch 132/200\n",
      "111/111 [==============================] - 0s 834us/step - loss: 0.0760 - acc: 0.4054 - val_loss: 0.4340 - val_acc: 0.4615\n",
      "Epoch 133/200\n",
      "111/111 [==============================] - 0s 840us/step - loss: 0.0724 - acc: 0.4144 - val_loss: 0.3225 - val_acc: 0.5385\n",
      "Epoch 134/200\n",
      "111/111 [==============================] - 0s 786us/step - loss: 0.0652 - acc: 0.4505 - val_loss: 0.3540 - val_acc: 0.5385\n",
      "Epoch 135/200\n",
      "111/111 [==============================] - 0s 798us/step - loss: 0.0646 - acc: 0.4685 - val_loss: 0.3619 - val_acc: 0.5385\n",
      "Epoch 136/200\n",
      "111/111 [==============================] - 0s 791us/step - loss: 0.0692 - acc: 0.4054 - val_loss: 0.3607 - val_acc: 0.5385\n",
      "Epoch 137/200\n",
      "111/111 [==============================] - 0s 855us/step - loss: 0.0734 - acc: 0.4144 - val_loss: 0.2822 - val_acc: 0.6154\n",
      "Epoch 138/200\n",
      "111/111 [==============================] - 0s 828us/step - loss: 0.0661 - acc: 0.4324 - val_loss: 0.3096 - val_acc: 0.6154\n",
      "Epoch 139/200\n",
      "111/111 [==============================] - 0s 799us/step - loss: 0.0636 - acc: 0.4324 - val_loss: 0.3411 - val_acc: 0.5385\n",
      "Epoch 140/200\n",
      "111/111 [==============================] - 0s 798us/step - loss: 0.0625 - acc: 0.4054 - val_loss: 0.3804 - val_acc: 0.5385\n",
      "Epoch 141/200\n",
      "111/111 [==============================] - 0s 777us/step - loss: 0.0646 - acc: 0.4595 - val_loss: 0.3385 - val_acc: 0.6154\n",
      "Epoch 142/200\n",
      "111/111 [==============================] - 0s 760us/step - loss: 0.0646 - acc: 0.4505 - val_loss: 0.2967 - val_acc: 0.5385\n",
      "Epoch 143/200\n",
      "111/111 [==============================] - 0s 779us/step - loss: 0.0592 - acc: 0.4324 - val_loss: 0.3199 - val_acc: 0.5385\n",
      "Epoch 144/200\n",
      "111/111 [==============================] - 0s 786us/step - loss: 0.0590 - acc: 0.4595 - val_loss: 0.2874 - val_acc: 0.5385\n",
      "Epoch 145/200\n",
      "111/111 [==============================] - 0s 805us/step - loss: 0.0626 - acc: 0.4505 - val_loss: 0.3234 - val_acc: 0.6154\n",
      "Epoch 146/200\n",
      "111/111 [==============================] - 0s 820us/step - loss: 0.0631 - acc: 0.4144 - val_loss: 0.3031 - val_acc: 0.5385\n",
      "Epoch 147/200\n",
      "111/111 [==============================] - 0s 820us/step - loss: 0.0604 - acc: 0.4414 - val_loss: 0.2986 - val_acc: 0.5385\n",
      "Epoch 148/200\n",
      "111/111 [==============================] - 0s 802us/step - loss: 0.0615 - acc: 0.4775 - val_loss: 0.3718 - val_acc: 0.5385\n",
      "Epoch 149/200\n",
      "111/111 [==============================] - 0s 811us/step - loss: 0.0615 - acc: 0.4505 - val_loss: 0.4109 - val_acc: 0.5385\n",
      "Epoch 150/200\n",
      "111/111 [==============================] - 0s 802us/step - loss: 0.0608 - acc: 0.4955 - val_loss: 0.3483 - val_acc: 0.6154\n",
      "Epoch 151/200\n",
      "111/111 [==============================] - 0s 808us/step - loss: 0.0635 - acc: 0.4595 - val_loss: 0.3065 - val_acc: 0.4615\n",
      "Epoch 152/200\n",
      "111/111 [==============================] - 0s 825us/step - loss: 0.0540 - acc: 0.4955 - val_loss: 0.2866 - val_acc: 0.4615\n",
      "Epoch 153/200\n",
      "111/111 [==============================] - 0s 966us/step - loss: 0.0537 - acc: 0.5045 - val_loss: 0.3537 - val_acc: 0.5385\n",
      "Epoch 154/200\n",
      "111/111 [==============================] - 0s 839us/step - loss: 0.0523 - acc: 0.5495 - val_loss: 0.3152 - val_acc: 0.5385\n",
      "Epoch 155/200\n",
      "111/111 [==============================] - 0s 756us/step - loss: 0.0500 - acc: 0.5135 - val_loss: 0.3285 - val_acc: 0.6154\n",
      "Epoch 156/200\n",
      "111/111 [==============================] - 0s 760us/step - loss: 0.0510 - acc: 0.5045 - val_loss: 0.3210 - val_acc: 0.5385\n",
      "Epoch 157/200\n",
      "111/111 [==============================] - 0s 765us/step - loss: 0.0542 - acc: 0.4595 - val_loss: 0.3720 - val_acc: 0.5385\n",
      "Epoch 158/200\n",
      "111/111 [==============================] - 0s 794us/step - loss: 0.0549 - acc: 0.5225 - val_loss: 0.3536 - val_acc: 0.6154\n",
      "Epoch 159/200\n",
      "111/111 [==============================] - 0s 811us/step - loss: 0.0583 - acc: 0.4505 - val_loss: 0.3452 - val_acc: 0.5385\n",
      "Epoch 160/200\n",
      "111/111 [==============================] - 0s 812us/step - loss: 0.0508 - acc: 0.5045 - val_loss: 0.3235 - val_acc: 0.5385\n",
      "Epoch 161/200\n",
      "111/111 [==============================] - 0s 800us/step - loss: 0.0494 - acc: 0.5315 - val_loss: 0.3318 - val_acc: 0.6154\n",
      "Epoch 162/200\n",
      "111/111 [==============================] - 0s 787us/step - loss: 0.0535 - acc: 0.4865 - val_loss: 0.2825 - val_acc: 0.6154\n",
      "Epoch 163/200\n",
      "111/111 [==============================] - 0s 787us/step - loss: 0.0542 - acc: 0.4865 - val_loss: 0.3837 - val_acc: 0.5385\n",
      "Epoch 164/200\n",
      "111/111 [==============================] - 0s 888us/step - loss: 0.0549 - acc: 0.4865 - val_loss: 0.2726 - val_acc: 0.5385\n",
      "Epoch 165/200\n",
      "111/111 [==============================] - 0s 806us/step - loss: 0.0545 - acc: 0.5135 - val_loss: 0.2755 - val_acc: 0.6154\n",
      "Epoch 166/200\n",
      "111/111 [==============================] - 0s 805us/step - loss: 0.0486 - acc: 0.4775 - val_loss: 0.3293 - val_acc: 0.6923\n",
      "Epoch 167/200\n",
      "111/111 [==============================] - 0s 790us/step - loss: 0.0477 - acc: 0.5135 - val_loss: 0.3350 - val_acc: 0.5385\n",
      "Epoch 168/200\n",
      "111/111 [==============================] - 0s 766us/step - loss: 0.0480 - acc: 0.4955 - val_loss: 0.3165 - val_acc: 0.5385\n",
      "Epoch 169/200\n",
      "111/111 [==============================] - 0s 769us/step - loss: 0.0489 - acc: 0.4955 - val_loss: 0.3186 - val_acc: 0.6154\n",
      "Epoch 170/200\n",
      "111/111 [==============================] - 0s 883us/step - loss: 0.0467 - acc: 0.5045 - val_loss: 0.2969 - val_acc: 0.4615\n",
      "Epoch 171/200\n",
      "111/111 [==============================] - 0s 882us/step - loss: 0.0444 - acc: 0.5495 - val_loss: 0.3077 - val_acc: 0.5385\n",
      "Epoch 172/200\n",
      "111/111 [==============================] - 0s 852us/step - loss: 0.0509 - acc: 0.5045 - val_loss: 0.3080 - val_acc: 0.5385\n",
      "Epoch 173/200\n",
      "111/111 [==============================] - 0s 800us/step - loss: 0.0490 - acc: 0.4505 - val_loss: 0.3243 - val_acc: 0.4615\n",
      "Epoch 174/200\n",
      "111/111 [==============================] - 0s 759us/step - loss: 0.0468 - acc: 0.4685 - val_loss: 0.3141 - val_acc: 0.5385\n",
      "Epoch 175/200\n",
      "111/111 [==============================] - 0s 812us/step - loss: 0.0450 - acc: 0.4865 - val_loss: 0.3443 - val_acc: 0.3846\n",
      "Epoch 176/200\n",
      "111/111 [==============================] - 0s 812us/step - loss: 0.0479 - acc: 0.4775 - val_loss: 0.2935 - val_acc: 0.6154\n",
      "Epoch 177/200\n",
      "111/111 [==============================] - 0s 764us/step - loss: 0.0469 - acc: 0.5315 - val_loss: 0.3037 - val_acc: 0.4615\n",
      "Epoch 178/200\n",
      "111/111 [==============================] - 0s 760us/step - loss: 0.0489 - acc: 0.4955 - val_loss: 0.2786 - val_acc: 0.7692\n",
      "Epoch 179/200\n",
      "111/111 [==============================] - 0s 753us/step - loss: 0.0466 - acc: 0.5405 - val_loss: 0.2950 - val_acc: 0.6154\n",
      "Epoch 180/200\n",
      "111/111 [==============================] - 0s 767us/step - loss: 0.0448 - acc: 0.5045 - val_loss: 0.2836 - val_acc: 0.5385\n"
     ]
    },
    {
     "name": "stdout",
     "output_type": "stream",
     "text": [
      "Epoch 181/200\n",
      "111/111 [==============================] - 0s 764us/step - loss: 0.0443 - acc: 0.5225 - val_loss: 0.3033 - val_acc: 0.4615\n",
      "Epoch 182/200\n",
      "111/111 [==============================] - 0s 784us/step - loss: 0.0431 - acc: 0.4865 - val_loss: 0.3183 - val_acc: 0.5385\n",
      "Epoch 183/200\n",
      "111/111 [==============================] - 0s 786us/step - loss: 0.0446 - acc: 0.5405 - val_loss: 0.2966 - val_acc: 0.5385\n",
      "Epoch 184/200\n",
      "111/111 [==============================] - 0s 769us/step - loss: 0.0452 - acc: 0.5315 - val_loss: 0.2879 - val_acc: 0.6154\n",
      "Epoch 185/200\n",
      "111/111 [==============================] - 0s 771us/step - loss: 0.0446 - acc: 0.5495 - val_loss: 0.2980 - val_acc: 0.6154\n",
      "Epoch 186/200\n",
      "111/111 [==============================] - 0s 764us/step - loss: 0.0450 - acc: 0.4775 - val_loss: 0.3224 - val_acc: 0.5385\n",
      "Epoch 187/200\n",
      "111/111 [==============================] - 0s 758us/step - loss: 0.0433 - acc: 0.5045 - val_loss: 0.2804 - val_acc: 0.6154\n",
      "Epoch 188/200\n",
      "111/111 [==============================] - 0s 766us/step - loss: 0.0442 - acc: 0.5225 - val_loss: 0.3025 - val_acc: 0.6154\n",
      "Epoch 189/200\n",
      "111/111 [==============================] - 0s 775us/step - loss: 0.0427 - acc: 0.5405 - val_loss: 0.2977 - val_acc: 0.6154\n",
      "Epoch 190/200\n",
      "111/111 [==============================] - 0s 764us/step - loss: 0.0427 - acc: 0.5225 - val_loss: 0.3403 - val_acc: 0.4615\n",
      "Epoch 191/200\n",
      "111/111 [==============================] - 0s 772us/step - loss: 0.0426 - acc: 0.5586 - val_loss: 0.3030 - val_acc: 0.6923\n",
      "Epoch 192/200\n",
      "111/111 [==============================] - 0s 760us/step - loss: 0.0495 - acc: 0.4865 - val_loss: 0.2705 - val_acc: 0.5385\n",
      "Epoch 193/200\n",
      "111/111 [==============================] - 0s 774us/step - loss: 0.0461 - acc: 0.5225 - val_loss: 0.2729 - val_acc: 0.6154\n",
      "Epoch 194/200\n",
      "111/111 [==============================] - 0s 759us/step - loss: 0.0437 - acc: 0.5315 - val_loss: 0.3216 - val_acc: 0.5385\n",
      "Epoch 195/200\n",
      "111/111 [==============================] - 0s 800us/step - loss: 0.0431 - acc: 0.5495 - val_loss: 0.2974 - val_acc: 0.5385\n",
      "Epoch 196/200\n",
      "111/111 [==============================] - 0s 799us/step - loss: 0.0416 - acc: 0.5225 - val_loss: 0.2803 - val_acc: 0.6154\n",
      "Epoch 197/200\n",
      "111/111 [==============================] - 0s 851us/step - loss: 0.0461 - acc: 0.5766 - val_loss: 0.2625 - val_acc: 0.5385\n",
      "Epoch 198/200\n",
      "111/111 [==============================] - 0s 825us/step - loss: 0.0435 - acc: 0.5315 - val_loss: 0.2773 - val_acc: 0.4615\n",
      "Epoch 199/200\n",
      "111/111 [==============================] - 0s 810us/step - loss: 0.0429 - acc: 0.5495 - val_loss: 0.2958 - val_acc: 0.5385\n",
      "Epoch 200/200\n",
      "111/111 [==============================] - 0s 824us/step - loss: 0.0417 - acc: 0.5135 - val_loss: 0.2615 - val_acc: 0.6154\n"
     ]
    }
   ],
   "source": [
    "#神经网络训练及结果\n",
    "history = model.fit(X, y, epochs =epoch, batch_size = batch_size,verbose=1,validation_split=0.1) #训练模型nb_epoch次"
   ]
  },
  {
   "cell_type": "code",
   "execution_count": 36,
   "metadata": {},
   "outputs": [
    {
     "name": "stdout",
     "output_type": "stream",
     "text": [
      "(1, 12, 1)\n"
     ]
    }
   ],
   "source": [
    "#筛选测试集\n",
    "test=pd.read_csv(test_file,header=0) \n",
    "test=test['passengers']/scale#选数据集的哪一列\n",
    "test=np.reshape(test.values, (1, window,amount_of_features))\n",
    "print(test.shape)"
   ]
  },
  {
   "cell_type": "code",
   "execution_count": 37,
   "metadata": {},
   "outputs": [
    {
     "name": "stdout",
     "output_type": "stream",
     "text": [
      "[380.64984 352.39444 424.23895 395.47702 460.3201  533.6566  535.4953\n",
      " 525.6112 ]\n"
     ]
    }
   ],
   "source": [
    "#实际预测\n",
    "predict=model.predict(test)[0,:]*scale\n",
    "#储存文件\n",
    "(pd.DataFrame(predict)).to_csv(save_file)\n",
    "print(predict)"
   ]
  },
  {
   "cell_type": "code",
   "execution_count": 38,
   "metadata": {
    "colab": {},
    "colab_type": "code",
    "executionInfo": {
     "elapsed": 25217,
     "status": "ok",
     "timestamp": 1597492094690,
     "user": {
      "displayName": "Expss Xu",
      "photoUrl": "",
      "userId": "17480852382145563764"
     },
     "user_tz": -480
    },
    "id": "Dx57DzoPotj7"
   },
   "outputs": [
    {
     "data": {
      "image/png": "[encoded data removed]",
      "text/plain": [
       "<Figure size 432x288 with 1 Axes>"
      ]
     },
     "metadata": {},
     "output_type": "display_data"
    }
   ],
   "source": [
    "#迭代图像\n",
    "loss = history.history['loss']\n",
    "val_loss = history.history['val_loss']\n",
    "epochs_range = range(epoch)\n",
    "plt.plot(epochs_range, loss, label='Train Loss')\n",
    "plt.plot(epochs_range, val_loss, label='Validation Loss')\n",
    "plt.legend(loc='upper right')\n",
    "plt.title('Train and Val Loss')\n",
    "plt.show()"
   ]
  },
  {
   "cell_type": "code",
   "execution_count": 39,
   "metadata": {},
   "outputs": [
    {
     "data": {
      "image/png": "[encoded data removed]",
      "text/plain": [
       "<Figure size 1080x360 with 1 Axes>"
      ]
     },
     "metadata": {},
     "output_type": "display_data"
    }
   ],
   "source": [
    "\n",
    "data_times=np.arange(len(data))\n",
    "all_data=np.hstack((data,predict)) \n",
    "predicted_times=np.arange(len(all_data))\n",
    "plt.figure(figsize=(15, 5))\n",
    "plt.axvline(len(data), linestyle=\"dotted\", linewidth=5, color='r')\n",
    "predicted_lines = plt.plot(predicted_times, all_data, label=\"prediction\", color=\"b\")\n",
    "data_lines = plt.plot(data_times, data, label=\"data\", color=\"k\")\n",
    "plt.legend(handles=[data_lines[0], predicted_lines[0]],loc=\"upper left\")\n",
    "#为训练，验证，预测数据分别创建图例\n",
    "plt.show()"
   ]
  },
  {
   "cell_type": "code",
   "execution_count": null,
   "metadata": {
    "colab": {},
    "colab_type": "code",
    "executionInfo": {
     "elapsed": 25211,
     "status": "ok",
     "timestamp": 1597492094691,
     "user": {
      "displayName": "Expss Xu",
      "photoUrl": "",
      "userId": "17480852382145563764"
     },
     "user_tz": -480
    },
    "id": "7kbUZXklotkA"
   },
   "outputs": [],
   "source": []
  },
  {
   "cell_type": "code",
   "execution_count": null,
   "metadata": {},
   "outputs": [],
   "source": []
  },
  {
   "cell_type": "code",
   "execution_count": null,
   "metadata": {},
   "outputs": [],
   "source": []
  }
 ],
 "metadata": {
  "anaconda-cloud": {},
  "colab": {
   "collapsed_sections": [],
   "name": "lstm.ipynb",
   "provenance": []
  },
  "kernelspec": {
   "display_name": "Python 3",
   "language": "python",
   "name": "python3"
  },
  "language_info": {
   "codemirror_mode": {
    "name": "ipython",
    "version": 3
   },
   "file_extension": ".py",
   "mimetype": "text/x-python",
   "name": "python",
   "nbconvert_exporter": "python",
   "pygments_lexer": "ipython3",
   "version": "3.6.10"
  }
 },
 "nbformat": 4,
 "nbformat_minor": 1
}
